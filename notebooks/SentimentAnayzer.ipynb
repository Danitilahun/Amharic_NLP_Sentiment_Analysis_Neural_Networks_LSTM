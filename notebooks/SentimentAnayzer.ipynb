{
  "cells": [
    {
      "cell_type": "code",
      "execution_count": 1,
      "metadata": {
        "colab": {
          "base_uri": "https://localhost:8080/"
        },
        "id": "w1x33MUHKZ-i",
        "outputId": "d13fa2db-15d7-461e-e166-5b30cae09308"
      },
      "outputs": [
        {
          "name": "stdout",
          "output_type": "stream",
          "text": [
            "Collecting onnx\n",
            "  Downloading onnx-1.17.0-cp311-cp311-manylinux_2_17_x86_64.manylinux2014_x86_64.whl.metadata (16 kB)\n",
            "Collecting onnxruntime\n",
            "  Downloading onnxruntime-1.20.1-cp311-cp311-manylinux_2_27_x86_64.manylinux_2_28_x86_64.whl.metadata (4.5 kB)\n",
            "Requirement already satisfied: torch in /usr/local/lib/python3.11/dist-packages (2.5.1+cu121)\n",
            "Requirement already satisfied: scikit-learn in /usr/local/lib/python3.11/dist-packages (1.6.1)\n",
            "Requirement already satisfied: pandas in /usr/local/lib/python3.11/dist-packages (2.2.2)\n",
            "Requirement already satisfied: tqdm in /usr/local/lib/python3.11/dist-packages (4.67.1)\n",
            "Requirement already satisfied: numpy in /usr/local/lib/python3.11/dist-packages (1.26.4)\n",
            "Requirement already satisfied: gensim in /usr/local/lib/python3.11/dist-packages (4.3.3)\n",
            "Requirement already satisfied: nltk in /usr/local/lib/python3.11/dist-packages (3.9.1)\n",
            "Requirement already satisfied: matplotlib in /usr/local/lib/python3.11/dist-packages (3.10.0)\n",
            "Requirement already satisfied: protobuf>=3.20.2 in /usr/local/lib/python3.11/dist-packages (from onnx) (4.25.5)\n",
            "Collecting coloredlogs (from onnxruntime)\n",
            "  Downloading coloredlogs-15.0.1-py2.py3-none-any.whl.metadata (12 kB)\n",
            "Requirement already satisfied: flatbuffers in /usr/local/lib/python3.11/dist-packages (from onnxruntime) (25.1.21)\n",
            "Requirement already satisfied: packaging in /usr/local/lib/python3.11/dist-packages (from onnxruntime) (24.2)\n",
            "Requirement already satisfied: sympy in /usr/local/lib/python3.11/dist-packages (from onnxruntime) (1.13.1)\n",
            "Requirement already satisfied: filelock in /usr/local/lib/python3.11/dist-packages (from torch) (3.17.0)\n",
            "Requirement already satisfied: typing-extensions>=4.8.0 in /usr/local/lib/python3.11/dist-packages (from torch) (4.12.2)\n",
            "Requirement already satisfied: networkx in /usr/local/lib/python3.11/dist-packages (from torch) (3.4.2)\n",
            "Requirement already satisfied: jinja2 in /usr/local/lib/python3.11/dist-packages (from torch) (3.1.5)\n",
            "Requirement already satisfied: fsspec in /usr/local/lib/python3.11/dist-packages (from torch) (2024.10.0)\n",
            "Requirement already satisfied: nvidia-cuda-nvrtc-cu12==12.1.105 in /usr/local/lib/python3.11/dist-packages (from torch) (12.1.105)\n",
            "Requirement already satisfied: nvidia-cuda-runtime-cu12==12.1.105 in /usr/local/lib/python3.11/dist-packages (from torch) (12.1.105)\n",
            "Requirement already satisfied: nvidia-cuda-cupti-cu12==12.1.105 in /usr/local/lib/python3.11/dist-packages (from torch) (12.1.105)\n",
            "Requirement already satisfied: nvidia-cudnn-cu12==9.1.0.70 in /usr/local/lib/python3.11/dist-packages (from torch) (9.1.0.70)\n",
            "Requirement already satisfied: nvidia-cublas-cu12==12.1.3.1 in /usr/local/lib/python3.11/dist-packages (from torch) (12.1.3.1)\n",
            "Requirement already satisfied: nvidia-cufft-cu12==11.0.2.54 in /usr/local/lib/python3.11/dist-packages (from torch) (11.0.2.54)\n",
            "Requirement already satisfied: nvidia-curand-cu12==10.3.2.106 in /usr/local/lib/python3.11/dist-packages (from torch) (10.3.2.106)\n",
            "Requirement already satisfied: nvidia-cusolver-cu12==11.4.5.107 in /usr/local/lib/python3.11/dist-packages (from torch) (11.4.5.107)\n",
            "Requirement already satisfied: nvidia-cusparse-cu12==12.1.0.106 in /usr/local/lib/python3.11/dist-packages (from torch) (12.1.0.106)\n",
            "Requirement already satisfied: nvidia-nccl-cu12==2.21.5 in /usr/local/lib/python3.11/dist-packages (from torch) (2.21.5)\n",
            "Requirement already satisfied: nvidia-nvtx-cu12==12.1.105 in /usr/local/lib/python3.11/dist-packages (from torch) (12.1.105)\n",
            "Requirement already satisfied: triton==3.1.0 in /usr/local/lib/python3.11/dist-packages (from torch) (3.1.0)\n",
            "Requirement already satisfied: nvidia-nvjitlink-cu12 in /usr/local/lib/python3.11/dist-packages (from nvidia-cusolver-cu12==11.4.5.107->torch) (12.6.85)\n",
            "Requirement already satisfied: mpmath<1.4,>=1.1.0 in /usr/local/lib/python3.11/dist-packages (from sympy->onnxruntime) (1.3.0)\n",
            "Requirement already satisfied: scipy>=1.6.0 in /usr/local/lib/python3.11/dist-packages (from scikit-learn) (1.13.1)\n",
            "Requirement already satisfied: joblib>=1.2.0 in /usr/local/lib/python3.11/dist-packages (from scikit-learn) (1.4.2)\n",
            "Requirement already satisfied: threadpoolctl>=3.1.0 in /usr/local/lib/python3.11/dist-packages (from scikit-learn) (3.5.0)\n",
            "Requirement already satisfied: python-dateutil>=2.8.2 in /usr/local/lib/python3.11/dist-packages (from pandas) (2.8.2)\n",
            "Requirement already satisfied: pytz>=2020.1 in /usr/local/lib/python3.11/dist-packages (from pandas) (2024.2)\n",
            "Requirement already satisfied: tzdata>=2022.7 in /usr/local/lib/python3.11/dist-packages (from pandas) (2025.1)\n",
            "Requirement already satisfied: smart-open>=1.8.1 in /usr/local/lib/python3.11/dist-packages (from gensim) (7.1.0)\n",
            "Requirement already satisfied: click in /usr/local/lib/python3.11/dist-packages (from nltk) (8.1.8)\n",
            "Requirement already satisfied: regex>=2021.8.3 in /usr/local/lib/python3.11/dist-packages (from nltk) (2024.11.6)\n",
            "Requirement already satisfied: contourpy>=1.0.1 in /usr/local/lib/python3.11/dist-packages (from matplotlib) (1.3.1)\n",
            "Requirement already satisfied: cycler>=0.10 in /usr/local/lib/python3.11/dist-packages (from matplotlib) (0.12.1)\n",
            "Requirement already satisfied: fonttools>=4.22.0 in /usr/local/lib/python3.11/dist-packages (from matplotlib) (4.55.4)\n",
            "Requirement already satisfied: kiwisolver>=1.3.1 in /usr/local/lib/python3.11/dist-packages (from matplotlib) (1.4.8)\n",
            "Requirement already satisfied: pillow>=8 in /usr/local/lib/python3.11/dist-packages (from matplotlib) (11.1.0)\n",
            "Requirement already satisfied: pyparsing>=2.3.1 in /usr/local/lib/python3.11/dist-packages (from matplotlib) (3.2.1)\n",
            "Requirement already satisfied: six>=1.5 in /usr/local/lib/python3.11/dist-packages (from python-dateutil>=2.8.2->pandas) (1.17.0)\n",
            "Requirement already satisfied: wrapt in /usr/local/lib/python3.11/dist-packages (from smart-open>=1.8.1->gensim) (1.17.2)\n",
            "Collecting humanfriendly>=9.1 (from coloredlogs->onnxruntime)\n",
            "  Downloading humanfriendly-10.0-py2.py3-none-any.whl.metadata (9.2 kB)\n",
            "Requirement already satisfied: MarkupSafe>=2.0 in /usr/local/lib/python3.11/dist-packages (from jinja2->torch) (3.0.2)\n",
            "Downloading onnx-1.17.0-cp311-cp311-manylinux_2_17_x86_64.manylinux2014_x86_64.whl (16.0 MB)\n",
            "\u001b[2K   \u001b[90m━━━━━━━━━━━━━━━━━━━━━━━━━━━━━━━━━━━━━━━━\u001b[0m \u001b[32m16.0/16.0 MB\u001b[0m \u001b[31m50.4 MB/s\u001b[0m eta \u001b[36m0:00:00\u001b[0m\n",
            "\u001b[?25hDownloading onnxruntime-1.20.1-cp311-cp311-manylinux_2_27_x86_64.manylinux_2_28_x86_64.whl (13.3 MB)\n",
            "\u001b[2K   \u001b[90m━━━━━━━━━━━━━━━━━━━━━━━━━━━━━━━━━━━━━━━━\u001b[0m \u001b[32m13.3/13.3 MB\u001b[0m \u001b[31m53.8 MB/s\u001b[0m eta \u001b[36m0:00:00\u001b[0m\n",
            "\u001b[?25hDownloading coloredlogs-15.0.1-py2.py3-none-any.whl (46 kB)\n",
            "\u001b[2K   \u001b[90m━━━━━━━━━━━━━━━━━━━━━━━━━━━━━━━━━━━━━━━━\u001b[0m \u001b[32m46.0/46.0 kB\u001b[0m \u001b[31m2.7 MB/s\u001b[0m eta \u001b[36m0:00:00\u001b[0m\n",
            "\u001b[?25hDownloading humanfriendly-10.0-py2.py3-none-any.whl (86 kB)\n",
            "\u001b[2K   \u001b[90m━━━━━━━━━━━━━━━━━━━━━━━━━━━━━━━━━━━━━━━━\u001b[0m \u001b[32m86.8/86.8 kB\u001b[0m \u001b[31m3.6 MB/s\u001b[0m eta \u001b[36m0:00:00\u001b[0m\n",
            "\u001b[?25hInstalling collected packages: onnx, humanfriendly, coloredlogs, onnxruntime\n",
            "Successfully installed coloredlogs-15.0.1 humanfriendly-10.0 onnx-1.17.0 onnxruntime-1.20.1\n"
          ]
        }
      ],
      "source": [
        "! pip install onnx onnxruntime torch scikit-learn pandas tqdm numpy gensim nltk matplotlib"
      ]
    },
    {
      "cell_type": "markdown",
      "metadata": {
        "id": "ZGiuBxz1tgt5"
      },
      "source": [
        "**1. Import Libraries and Set Up Environment**"
      ]
    },
    {
      "cell_type": "code",
      "execution_count": 2,
      "metadata": {
        "id": "zuNbhQjotI63"
      },
      "outputs": [],
      "source": [
        "# Standard library imports\n",
        "import os\n",
        "\n",
        "# Third-party imports\n",
        "import nltk\n",
        "import numpy as np\n",
        "import onnxruntime as ort\n",
        "import pandas as pd\n",
        "import torch\n",
        "import torch.nn as nn\n",
        "import torch.optim as optim\n",
        "from gensim.models import Word2Vec\n",
        "from nltk.tokenize import word_tokenize\n",
        "from sklearn.metrics import accuracy_score\n",
        "from sklearn.model_selection import train_test_split\n",
        "from torch.utils.data import DataLoader, Dataset, random_split\n",
        "from tqdm import tqdm"
      ]
    },
    {
      "cell_type": "markdown",
      "metadata": {
        "id": "A_sEJhwOt1Mu"
      },
      "source": [
        "**2. Load and Prepare Dataset**"
      ]
    },
    {
      "cell_type": "code",
      "execution_count": 3,
      "metadata": {
        "colab": {
          "base_uri": "https://localhost:8080/"
        },
        "id": "rfix65Y_KZ-n",
        "outputId": "dacce2d5-767c-44e4-a858-669abd35f0f6"
      },
      "outputs": [
        {
          "name": "stdout",
          "output_type": "stream",
          "text": [
            "Mounted at /content/drive\n"
          ]
        }
      ],
      "source": [
        "from google.colab import drive\n",
        "drive.mount('/content/drive')"
      ]
    },
    {
      "cell_type": "code",
      "execution_count": 4,
      "metadata": {
        "colab": {
          "base_uri": "https://localhost:8080/",
          "height": 206
        },
        "id": "yqXptkFsKZ-n",
        "outputId": "5d94bfcb-8892-4b58-a6d2-e4c0ca80b7b3"
      },
      "outputs": [
        {
          "data": {
            "application/vnd.google.colaboratory.intrinsic+json": {
              "summary": "{\n  \"name\": \"data\",\n  \"rows\": 61718,\n  \"fields\": [\n    {\n      \"column\": \"cleaned_tweet\",\n      \"properties\": {\n        \"dtype\": \"string\",\n        \"num_unique_values\": 51843,\n        \"samples\": [\n          \"\\u1219\\u120c \\u120c\\u120b\\u12cd\\u1295 \\u1270\\u12c8\\u12cd\\u1293 \\u12a0\\u121b\\u122b \\u12ad\\u120d\\u120d \\u1265\\u1245\\u122d\\u1261 \\u12a0\\u121d\\u1235\\u1275 \\u120a\\u12a8\\u1348\\u120d \\u12ed\\u127d\\u120b\\u120d \\u12a8\\u1218\\u1206\\u1291 \\u1260\\u134a\\u1275 \\u1348\\u1325\\u1290\\u1205 \\u12f5\\u1228\\u1235\",\n          \"\\u12a1\\u134d \\u121d\\u1235\\u12aa\\u1295 \\u1345\\u1293\\u1271\\u1295 \\u12ed\\u1235\\u1323\\u1278\\u12cd \\u12a8\\u1230\\u12ed\\u1323\\u1295 \\u12a5\\u12ae \\u1326\\u122d\\u1290\\u1275 \\u12e8\\u1308\\u1263\\u1290\\u12cd\",\n          \"\\u12e8\\u1290\\u1303\\u12cb\\u122d \\u12e8\\u12a0\\u1205\\u1218\\u12f2\\u1295 \\u127c\\u1295 \\u1235\\u122b\\u12cd \\u1208\\u1235\\u122b \\u12a0\\u1321 \\u134d\\u1295\\u12f3\\u1273\\u1293 \\u12a0\\u122d\\u1236 \\u12a0\\u12f0\\u122d \\u1208\\u132b\\u1275 \\u1208\\u1328\\u1265\\u1232 \\u12a5\\u12e8\\u1308\\u1261\\u1208\\u1275 \\u12a0\\u12f0\\u120d \\u1218\\u1295\\u130b\\u12cd\\u1295 \\u12e8\\u121a\\u1290\\u12f1\\u1275 \\u1218\\u1295\\u130b \\u1218\\u1295\\u130b\\u130b\\u1275 \\u121b\\u1295\\u130b\\u1275 \\u12a0\\u12ed\\u127d\\u120d \\u1260\\u1290\\u1308\\u122b\\u127d\\u1295 \\u1218\\u1325\\u1228\\u1262\\u12eb \\u12eb\\u12d8\\u12cd \\u120d\\u1305 \\u1208\\u12a0\\u1295\\u1328\\u1275 \\u1218\\u1230\\u1208\\u129d \\u1208\\u1230\\u12cd \\u1265\\u12ec \\u1208\\u121b\\u1230\\u1265 \\u1235\\u1208\\u12a8\\u1260\\u12f0\\u129d \\u12a5\\u1295\\u12f0\\u12cd \\u130d\\u12f0\\u1208\\u12cd \\u1265\\u1208\\u12cd \\u12e8\\u120b\\u12a9\\u1275\\u1295 \\u1230\\u12cd \\u1260\\u12eb\\u1308\\u1298\\u12cd \\u120a\\u12eb\\u12f0\\u122d\\u1308\\u12cd \\u12a0\\u1290\\u12da\\u1205 \\u12a0\\u12c8\\u122c\\u12ce\\u127d\\u121d \\u1270\\u1246\\u1325\\u1228\\u12cd \\u121a\\u120d\\u12ee\\u1295 \\u12e8\\u1270\\u1263\\u1208\\u12cd \\u1208\\u12aa\\u12ce\\u1279\\u1293 \\u12a0\\u12cd\\u122c\\u12ce\\u1279 \\u12ed\\u1240\\u1290\\u1231\\u120d\\u1295 \\u1230\\u1295\\u1275 \\u1230\\u12cd \\u12a0\\u1208 \\u12e8\\u1325\\u120c\\u1295 \\u12d8\\u1348\\u1295 \\u1263\\u12f3\\u121d\\u1325 \\u12ed\\u123b\\u1208\\u129b\\u120d \\u121d\\u1293\\u1208\\u134b\\u129d \\u12e8\\u121a\\u1208\\u12c8\\u1295 \\u12a0\\u1230\\u1240\\u1325\\u120b\\u1208\\u1201\"\n        ],\n        \"semantic_type\": \"\",\n        \"description\": \"\"\n      }\n    },\n    {\n      \"column\": \"lable\",\n      \"properties\": {\n        \"dtype\": \"number\",\n        \"std\": 0,\n        \"min\": 0,\n        \"max\": 1,\n        \"num_unique_values\": 2,\n        \"samples\": [\n          1,\n          0\n        ],\n        \"semantic_type\": \"\",\n        \"description\": \"\"\n      }\n    }\n  ]\n}",
              "type": "dataframe",
              "variable_name": "data"
            },
            "text/html": [
              "\n",
              "  <div id=\"df-7858c12a-aea9-46a7-91fd-5c657febb868\" class=\"colab-df-container\">\n",
              "    <div>\n",
              "<style scoped>\n",
              "    .dataframe tbody tr th:only-of-type {\n",
              "        vertical-align: middle;\n",
              "    }\n",
              "\n",
              "    .dataframe tbody tr th {\n",
              "        vertical-align: top;\n",
              "    }\n",
              "\n",
              "    .dataframe thead th {\n",
              "        text-align: right;\n",
              "    }\n",
              "</style>\n",
              "<table border=\"1\" class=\"dataframe\">\n",
              "  <thead>\n",
              "    <tr style=\"text-align: right;\">\n",
              "      <th></th>\n",
              "      <th>cleaned_tweet</th>\n",
              "      <th>lable</th>\n",
              "    </tr>\n",
              "  </thead>\n",
              "  <tbody>\n",
              "    <tr>\n",
              "      <th>0</th>\n",
              "      <td>መግደል ቂም ፈጥሮ በበቀል ግድያ ግድያ ይጋብዛል አረመኔው ረግጦ ገዝቶ ዘ...</td>\n",
              "      <td>0</td>\n",
              "    </tr>\n",
              "    <tr>\n",
              "      <th>1</th>\n",
              "      <td>ትንሿ ወር ጳጉሜ ይጠርልሽ ትግራይ የሀዘንሽ እድሜ</td>\n",
              "      <td>1</td>\n",
              "    </tr>\n",
              "    <tr>\n",
              "      <th>2</th>\n",
              "      <td>እንዲህ አስተያየትም ወቀሳ የመስጠት የሞራል ብቃት የለህም መጀመሪያ ምንም...</td>\n",
              "      <td>0</td>\n",
              "    </tr>\n",
              "    <tr>\n",
              "      <th>3</th>\n",
              "      <td>ወረኛ ሲጠላህ እማይልህ የለም ካናቢስ እያስጠቀመ ውግያ ያስገባል ሲልህ አ...</td>\n",
              "      <td>0</td>\n",
              "    </tr>\n",
              "    <tr>\n",
              "      <th>4</th>\n",
              "      <td>ብዙ ኢትዮጵያውያን ለፌደራል መከላከያ ሰራዊት የትግራይ ህዝብ ጨፈጨፈ እያ...</td>\n",
              "      <td>0</td>\n",
              "    </tr>\n",
              "  </tbody>\n",
              "</table>\n",
              "</div>\n",
              "    <div class=\"colab-df-buttons\">\n",
              "\n",
              "  <div class=\"colab-df-container\">\n",
              "    <button class=\"colab-df-convert\" onclick=\"convertToInteractive('df-7858c12a-aea9-46a7-91fd-5c657febb868')\"\n",
              "            title=\"Convert this dataframe to an interactive table.\"\n",
              "            style=\"display:none;\">\n",
              "\n",
              "  <svg xmlns=\"http://www.w3.org/2000/svg\" height=\"24px\" viewBox=\"0 -960 960 960\">\n",
              "    <path d=\"M120-120v-720h720v720H120Zm60-500h600v-160H180v160Zm220 220h160v-160H400v160Zm0 220h160v-160H400v160ZM180-400h160v-160H180v160Zm440 0h160v-160H620v160ZM180-180h160v-160H180v160Zm440 0h160v-160H620v160Z\"/>\n",
              "  </svg>\n",
              "    </button>\n",
              "\n",
              "  <style>\n",
              "    .colab-df-container {\n",
              "      display:flex;\n",
              "      gap: 12px;\n",
              "    }\n",
              "\n",
              "    .colab-df-convert {\n",
              "      background-color: #E8F0FE;\n",
              "      border: none;\n",
              "      border-radius: 50%;\n",
              "      cursor: pointer;\n",
              "      display: none;\n",
              "      fill: #1967D2;\n",
              "      height: 32px;\n",
              "      padding: 0 0 0 0;\n",
              "      width: 32px;\n",
              "    }\n",
              "\n",
              "    .colab-df-convert:hover {\n",
              "      background-color: #E2EBFA;\n",
              "      box-shadow: 0px 1px 2px rgba(60, 64, 67, 0.3), 0px 1px 3px 1px rgba(60, 64, 67, 0.15);\n",
              "      fill: #174EA6;\n",
              "    }\n",
              "\n",
              "    .colab-df-buttons div {\n",
              "      margin-bottom: 4px;\n",
              "    }\n",
              "\n",
              "    [theme=dark] .colab-df-convert {\n",
              "      background-color: #3B4455;\n",
              "      fill: #D2E3FC;\n",
              "    }\n",
              "\n",
              "    [theme=dark] .colab-df-convert:hover {\n",
              "      background-color: #434B5C;\n",
              "      box-shadow: 0px 1px 3px 1px rgba(0, 0, 0, 0.15);\n",
              "      filter: drop-shadow(0px 1px 2px rgba(0, 0, 0, 0.3));\n",
              "      fill: #FFFFFF;\n",
              "    }\n",
              "  </style>\n",
              "\n",
              "    <script>\n",
              "      const buttonEl =\n",
              "        document.querySelector('#df-7858c12a-aea9-46a7-91fd-5c657febb868 button.colab-df-convert');\n",
              "      buttonEl.style.display =\n",
              "        google.colab.kernel.accessAllowed ? 'block' : 'none';\n",
              "\n",
              "      async function convertToInteractive(key) {\n",
              "        const element = document.querySelector('#df-7858c12a-aea9-46a7-91fd-5c657febb868');\n",
              "        const dataTable =\n",
              "          await google.colab.kernel.invokeFunction('convertToInteractive',\n",
              "                                                    [key], {});\n",
              "        if (!dataTable) return;\n",
              "\n",
              "        const docLinkHtml = 'Like what you see? Visit the ' +\n",
              "          '<a target=\"_blank\" href=https://colab.research.google.com/notebooks/data_table.ipynb>data table notebook</a>'\n",
              "          + ' to learn more about interactive tables.';\n",
              "        element.innerHTML = '';\n",
              "        dataTable['output_type'] = 'display_data';\n",
              "        await google.colab.output.renderOutput(dataTable, element);\n",
              "        const docLink = document.createElement('div');\n",
              "        docLink.innerHTML = docLinkHtml;\n",
              "        element.appendChild(docLink);\n",
              "      }\n",
              "    </script>\n",
              "  </div>\n",
              "\n",
              "\n",
              "<div id=\"df-9509fa65-feca-44d6-9b4f-1a5fab12646f\">\n",
              "  <button class=\"colab-df-quickchart\" onclick=\"quickchart('df-9509fa65-feca-44d6-9b4f-1a5fab12646f')\"\n",
              "            title=\"Suggest charts\"\n",
              "            style=\"display:none;\">\n",
              "\n",
              "<svg xmlns=\"http://www.w3.org/2000/svg\" height=\"24px\"viewBox=\"0 0 24 24\"\n",
              "     width=\"24px\">\n",
              "    <g>\n",
              "        <path d=\"M19 3H5c-1.1 0-2 .9-2 2v14c0 1.1.9 2 2 2h14c1.1 0 2-.9 2-2V5c0-1.1-.9-2-2-2zM9 17H7v-7h2v7zm4 0h-2V7h2v10zm4 0h-2v-4h2v4z\"/>\n",
              "    </g>\n",
              "</svg>\n",
              "  </button>\n",
              "\n",
              "<style>\n",
              "  .colab-df-quickchart {\n",
              "      --bg-color: #E8F0FE;\n",
              "      --fill-color: #1967D2;\n",
              "      --hover-bg-color: #E2EBFA;\n",
              "      --hover-fill-color: #174EA6;\n",
              "      --disabled-fill-color: #AAA;\n",
              "      --disabled-bg-color: #DDD;\n",
              "  }\n",
              "\n",
              "  [theme=dark] .colab-df-quickchart {\n",
              "      --bg-color: #3B4455;\n",
              "      --fill-color: #D2E3FC;\n",
              "      --hover-bg-color: #434B5C;\n",
              "      --hover-fill-color: #FFFFFF;\n",
              "      --disabled-bg-color: #3B4455;\n",
              "      --disabled-fill-color: #666;\n",
              "  }\n",
              "\n",
              "  .colab-df-quickchart {\n",
              "    background-color: var(--bg-color);\n",
              "    border: none;\n",
              "    border-radius: 50%;\n",
              "    cursor: pointer;\n",
              "    display: none;\n",
              "    fill: var(--fill-color);\n",
              "    height: 32px;\n",
              "    padding: 0;\n",
              "    width: 32px;\n",
              "  }\n",
              "\n",
              "  .colab-df-quickchart:hover {\n",
              "    background-color: var(--hover-bg-color);\n",
              "    box-shadow: 0 1px 2px rgba(60, 64, 67, 0.3), 0 1px 3px 1px rgba(60, 64, 67, 0.15);\n",
              "    fill: var(--button-hover-fill-color);\n",
              "  }\n",
              "\n",
              "  .colab-df-quickchart-complete:disabled,\n",
              "  .colab-df-quickchart-complete:disabled:hover {\n",
              "    background-color: var(--disabled-bg-color);\n",
              "    fill: var(--disabled-fill-color);\n",
              "    box-shadow: none;\n",
              "  }\n",
              "\n",
              "  .colab-df-spinner {\n",
              "    border: 2px solid var(--fill-color);\n",
              "    border-color: transparent;\n",
              "    border-bottom-color: var(--fill-color);\n",
              "    animation:\n",
              "      spin 1s steps(1) infinite;\n",
              "  }\n",
              "\n",
              "  @keyframes spin {\n",
              "    0% {\n",
              "      border-color: transparent;\n",
              "      border-bottom-color: var(--fill-color);\n",
              "      border-left-color: var(--fill-color);\n",
              "    }\n",
              "    20% {\n",
              "      border-color: transparent;\n",
              "      border-left-color: var(--fill-color);\n",
              "      border-top-color: var(--fill-color);\n",
              "    }\n",
              "    30% {\n",
              "      border-color: transparent;\n",
              "      border-left-color: var(--fill-color);\n",
              "      border-top-color: var(--fill-color);\n",
              "      border-right-color: var(--fill-color);\n",
              "    }\n",
              "    40% {\n",
              "      border-color: transparent;\n",
              "      border-right-color: var(--fill-color);\n",
              "      border-top-color: var(--fill-color);\n",
              "    }\n",
              "    60% {\n",
              "      border-color: transparent;\n",
              "      border-right-color: var(--fill-color);\n",
              "    }\n",
              "    80% {\n",
              "      border-color: transparent;\n",
              "      border-right-color: var(--fill-color);\n",
              "      border-bottom-color: var(--fill-color);\n",
              "    }\n",
              "    90% {\n",
              "      border-color: transparent;\n",
              "      border-bottom-color: var(--fill-color);\n",
              "    }\n",
              "  }\n",
              "</style>\n",
              "\n",
              "  <script>\n",
              "    async function quickchart(key) {\n",
              "      const quickchartButtonEl =\n",
              "        document.querySelector('#' + key + ' button');\n",
              "      quickchartButtonEl.disabled = true;  // To prevent multiple clicks.\n",
              "      quickchartButtonEl.classList.add('colab-df-spinner');\n",
              "      try {\n",
              "        const charts = await google.colab.kernel.invokeFunction(\n",
              "            'suggestCharts', [key], {});\n",
              "      } catch (error) {\n",
              "        console.error('Error during call to suggestCharts:', error);\n",
              "      }\n",
              "      quickchartButtonEl.classList.remove('colab-df-spinner');\n",
              "      quickchartButtonEl.classList.add('colab-df-quickchart-complete');\n",
              "    }\n",
              "    (() => {\n",
              "      let quickchartButtonEl =\n",
              "        document.querySelector('#df-9509fa65-feca-44d6-9b4f-1a5fab12646f button');\n",
              "      quickchartButtonEl.style.display =\n",
              "        google.colab.kernel.accessAllowed ? 'block' : 'none';\n",
              "    })();\n",
              "  </script>\n",
              "</div>\n",
              "\n",
              "    </div>\n",
              "  </div>\n"
            ],
            "text/plain": [
              "                                       cleaned_tweet  lable\n",
              "0  መግደል ቂም ፈጥሮ በበቀል ግድያ ግድያ ይጋብዛል አረመኔው ረግጦ ገዝቶ ዘ...      0\n",
              "1                    ትንሿ ወር ጳጉሜ ይጠርልሽ ትግራይ የሀዘንሽ እድሜ      1\n",
              "2  እንዲህ አስተያየትም ወቀሳ የመስጠት የሞራል ብቃት የለህም መጀመሪያ ምንም...      0\n",
              "3  ወረኛ ሲጠላህ እማይልህ የለም ካናቢስ እያስጠቀመ ውግያ ያስገባል ሲልህ አ...      0\n",
              "4  ብዙ ኢትዮጵያውያን ለፌደራል መከላከያ ሰራዊት የትግራይ ህዝብ ጨፈጨፈ እያ...      0"
            ]
          },
          "execution_count": 4,
          "metadata": {},
          "output_type": "execute_result"
        }
      ],
      "source": [
        "csv_path = '/content/drive/My Drive/cleaned_dataset.csv'\n",
        "\n",
        "data = pd.read_csv(csv_path)\n",
        "\n",
        "data.head()"
      ]
    },
    {
      "cell_type": "code",
      "execution_count": 5,
      "metadata": {
        "colab": {
          "base_uri": "https://localhost:8080/"
        },
        "id": "MCJOF_peKZ-o",
        "outputId": "c5b97a2b-1927-4dad-88d1-0e1604236d9a"
      },
      "outputs": [
        {
          "name": "stdout",
          "output_type": "stream",
          "text": [
            "\n",
            " Number of rows in the dataset: 61718\n"
          ]
        }
      ],
      "source": [
        "rows, columns = data.shape\n",
        "\n",
        "print(f\"\\n Number of rows in the dataset: {rows}\")"
      ]
    },
    {
      "cell_type": "markdown",
      "metadata": {
        "id": "vw3wD9b_t5nc"
      },
      "source": [
        "### Tokenization and Word2Vec Embedding\n",
        "\n",
        "This section focuses on preprocessing textual data by converting it into a structured numerical format suitable for machine learning models. Tokenization involves breaking down text into individual words or tokens, while Word2Vec embedding represents these tokens as dense, fixed-length vectors in a continuous vector space, capturing semantic relationships between words. This approach enables the model to better understand the contextual meaning of words in the dataset."
      ]
    },
    {
      "cell_type": "code",
      "execution_count": 6,
      "metadata": {
        "id": "trk2ghGFKZ-o"
      },
      "outputs": [],
      "source": [
        "data['cleaned_tweet'] = data['cleaned_tweet'].astype(str)"
      ]
    },
    {
      "cell_type": "code",
      "execution_count": 8,
      "metadata": {
        "colab": {
          "base_uri": "https://localhost:8080/"
        },
        "id": "-cgqm0NSKZ-o",
        "outputId": "1267d684-4b7c-4bc7-cbbd-53154e46f614"
      },
      "outputs": [
        {
          "name": "stderr",
          "output_type": "stream",
          "text": [
            "[nltk_data] Downloading package punkt_tab to /root/nltk_data...\n",
            "[nltk_data]   Unzipping tokenizers/punkt_tab.zip.\n"
          ]
        }
      ],
      "source": [
        "import nltk\n",
        "nltk.download('punkt_tab')\n",
        "\n",
        "data['tokens'] = data['cleaned_tweet'].apply(word_tokenize)"
      ]
    },
    {
      "cell_type": "code",
      "execution_count": 9,
      "metadata": {
        "id": "Wm4b1fwmKZ-p"
      },
      "outputs": [],
      "source": [
        "embedding_dimension = 100\n",
        "window_size = 5\n",
        "min_word_count = 1\n",
        "num_workers = 4\n",
        "training_algorithm = 1\n",
        "negative_samples = 10\n",
        "num_epochs = 30"
      ]
    },
    {
      "cell_type": "code",
      "execution_count": 11,
      "metadata": {
        "id": "lfWLLO1hKZ-p"
      },
      "outputs": [],
      "source": [
        "word2vec_model = Word2Vec(\n",
        "    sentences=data['tokens'],\n",
        "    vector_size=embedding_dimension,\n",
        "    window=window_size,\n",
        "    min_count=min_word_count,\n",
        "    workers=num_workers,\n",
        "    sg=training_algorithm,\n",
        "    negative=negative_samples,\n",
        "    epochs=num_epochs\n",
        ")"
      ]
    },
    {
      "cell_type": "code",
      "execution_count": 12,
      "metadata": {
        "id": "dV4eJPu6KZ-p"
      },
      "outputs": [],
      "source": [
        "word_vectors = word2vec_model.wv\n",
        "\n",
        "embedding_dictionary = {word: word_vectors[word] for word in word_vectors.index_to_key}"
      ]
    },
    {
      "cell_type": "code",
      "execution_count": 64,
      "metadata": {
        "colab": {
          "base_uri": "https://localhost:8080/"
        },
        "id": "4Zo4Q7vGccIB",
        "outputId": "6c2afefe-e94b-4dd3-95ee-ef08f94a525c"
      },
      "outputs": [
        {
          "name": "stdout",
          "output_type": "stream",
          "text": [
            "\u001b[31mERROR: Could not find a version that satisfies the requirement pickle (from versions: none)\u001b[0m\u001b[31m\n",
            "\u001b[0m\u001b[31mERROR: No matching distribution found for pickle\u001b[0m\u001b[31m\n",
            "\u001b[0m"
          ]
        }
      ],
      "source": [
        "! pip install pickle"
      ]
    },
    {
      "cell_type": "code",
      "execution_count": 65,
      "metadata": {
        "colab": {
          "base_uri": "https://localhost:8080/"
        },
        "id": "4u-x4AiDceko",
        "outputId": "ca067260-e8b3-4d28-a0e4-76c718f522f1"
      },
      "outputs": [
        {
          "name": "stdout",
          "output_type": "stream",
          "text": [
            "Embedding dictionary successfully saved to /content/drive/MyDrive/Sentiment_Analysis_Models/embedding_dictionary.pkl\n"
          ]
        }
      ],
      "source": [
        "import pickle\n",
        "import os\n",
        "\n",
        "drive_directory = '/content/drive/MyDrive/Sentiment_Analysis_Models'\n",
        "os.makedirs(drive_directory, exist_ok=True)\n",
        "\n",
        "embedding_file_path = os.path.join(drive_directory, 'embedding_dictionary.pkl')\n",
        "\n",
        "with open(embedding_file_path, 'wb') as f:\n",
        "    pickle.dump(embedding_dictionary, f)\n",
        "\n",
        "print(f'Embedding dictionary successfully saved to {embedding_file_path}')"
      ]
    },
    {
      "cell_type": "code",
      "execution_count": 13,
      "metadata": {
        "id": "z9xdH6GeKZ-p"
      },
      "outputs": [],
      "source": [
        "def vectorize_dataset(tokens, embedding_matrix, max_len=10):\n",
        "    \"\"\"\n",
        "    Converts a list of tokens from a tweet into a fixed-size matrix of embedding vectors.\n",
        "\n",
        "    Parameters:\n",
        "    - tokens (list of str): Tokenized words from a tweet.\n",
        "    - embedding_matrix (dict): Mapping from words to their embedding vectors.\n",
        "    - max_len (int, optional): Desired number of tokens per tweet. Defaults to 10.\n",
        "\n",
        "    Returns:\n",
        "    - np.ndarray: A 2D NumPy array of shape (max_len, embedding_dim) representing the vectorized tweet.\n",
        "                  Each row corresponds to the embedding vector of a token.\n",
        "                  If the number of tokens is less than max_len, the array is padded with zero vectors.\n",
        "                  If more, it is truncated to max_len.\n",
        "    \"\"\"\n",
        "    vectors = [\n",
        "        embedding_matrix[token] if token in embedding_matrix else np.zeros(len(next(iter(embedding_matrix.values()))))\n",
        "        for token in tokens\n",
        "    ]\n",
        "\n",
        "\n",
        "    if len(vectors) < max_len:\n",
        "        padding = [np.zeros(len(next(iter(embedding_matrix.values()))))] * (max_len - len(vectors))\n",
        "        vectors.extend(padding)\n",
        "\n",
        "    else:\n",
        "        vectors = vectors[:max_len]\n",
        "\n",
        "    return np.array(vectors)"
      ]
    },
    {
      "cell_type": "code",
      "execution_count": 14,
      "metadata": {
        "id": "Ee_olbs7KZ-p"
      },
      "outputs": [],
      "source": [
        "max_len = 50\n",
        "data['vectors'] = data['tokens'].apply(lambda x: vectorize_dataset(x, embedding_dictionary, max_len))"
      ]
    },
    {
      "cell_type": "code",
      "execution_count": 66,
      "metadata": {
        "colab": {
          "base_uri": "https://localhost:8080/"
        },
        "id": "rk_4kw0AcCbe",
        "outputId": "3bea5dd2-f1aa-4e53-e348-0e5ff119ac7d"
      },
      "outputs": [
        {
          "data": {
            "text/plain": [
              "[('የሰውልጀ', 0.741428792476654),\n",
              " ('ለሀገራችነእሽ', 0.7401630282402039),\n",
              " ('አውርጂለው', 0.7252150774002075),\n",
              " ('እምትሆነው', 0.7202683091163635),\n",
              " ('በማለተቸው', 0.7180858850479126),\n",
              " ('ባገሪቱ', 0.716196596622467),\n",
              " ('ዘይበለ', 0.7151095271110535),\n",
              " ('አብሽሩበርቱልን', 0.7131639122962952),\n",
              " ('ቢአዱ', 0.7115639448165894),\n",
              " ('የሚመጣበቴን', 0.7113503217697144)]"
            ]
          },
          "execution_count": 66,
          "metadata": {},
          "output_type": "execute_result"
        }
      ],
      "source": [
        "word2vec_model.wv.most_similar('ሰላም')"
      ]
    },
    {
      "cell_type": "markdown",
      "metadata": {
        "id": "ZSEJcb3Ut7TG"
      },
      "source": [
        "### Dataset Splitting: Train, Validation, and Test Sets\n",
        "\n",
        "This section outlines the process of dividing the dataset into training, validation, and test sets to ensure robust model development. The training set is used for learning, the validation set for tuning, and the test set for final performance evaluation."
      ]
    },
    {
      "cell_type": "code",
      "execution_count": 31,
      "metadata": {
        "id": "AD-PVDCQKZ-q"
      },
      "outputs": [],
      "source": [
        "class SentimentAnalysisDataset(Dataset):\n",
        "    def __init__(self, data):\n",
        "        self.data = data\n",
        "\n",
        "    def __len__(self):\n",
        "        return len(self.data)\n",
        "\n",
        "    def __getitem__(self, idx):\n",
        "\n",
        "        post_vector = torch.tensor(self.data.iloc[idx]['vectors'], dtype=torch.float32)\n",
        "        label = torch.tensor(self.data.iloc[idx]['lable'], dtype=torch.float32)\n",
        "        post = self.data.iloc[idx]['cleaned_tweet']\n",
        "        return post, post_vector, label\n",
        "\n",
        "dataset = SentimentAnalysisDataset(data)\n",
        "\n",
        "total_length = len(dataset)\n",
        "train_size = int(0.9 * total_length)\n",
        "val_size = int(0.1 * total_length)\n",
        "test_size = int(0.1 * total_length)\n",
        "\n",
        "train_indices = torch.randperm(total_length)[:train_size].tolist()\n",
        "val_indices = torch.randperm(total_length)[:val_size].tolist()\n",
        "test_indices = torch.randperm(total_length)[:test_size].tolist()\n",
        "\n",
        "train_dataset = torch.utils.data.Subset(dataset, train_indices)\n",
        "val_dataset = torch.utils.data.Subset(dataset, val_indices)\n",
        "test_dataset = torch.utils.data.Subset(dataset, test_indices)\n",
        "\n",
        "batch_size = 128\n",
        "train_loader = DataLoader(train_dataset, batch_size=batch_size)\n",
        "val_loader = DataLoader(val_dataset, batch_size=batch_size)\n",
        "test_loader = DataLoader(test_dataset, batch_size=batch_size)"
      ]
    },
    {
      "cell_type": "code",
      "execution_count": 33,
      "metadata": {
        "colab": {
          "base_uri": "https://localhost:8080/"
        },
        "id": "B7KxbsoTOwBN",
        "outputId": "c2515cc2-7be0-4e54-de8c-1b0ce10795bb"
      },
      "outputs": [
        {
          "name": "stdout",
          "output_type": "stream",
          "text": [
            "Using device: cpu\n"
          ]
        }
      ],
      "source": [
        "device = torch.device('cuda' if torch.cuda.is_available() else 'cpu')\n",
        "print(f\"Using device: {device}\")"
      ]
    },
    {
      "cell_type": "code",
      "execution_count": 34,
      "metadata": {
        "id": "JC2-yX0xuCZu"
      },
      "outputs": [],
      "source": [
        "class SentimentAnalysisLSTM(nn.Module):\n",
        "    def __init__(self, embedding_dim, hidden_dim, dropout=0.5):\n",
        "        \"\"\"\n",
        "        Args:\n",
        "            embedding_dim (int): Dimension of input embeddings.\n",
        "            hidden_dim (int): Number of features in the hidden state of the LSTM.\n",
        "            dropout (float): Dropout probability.\n",
        "        \"\"\"\n",
        "        super(SentimentAnalysisLSTM, self).__init__()\n",
        "\n",
        "        self.lstm = nn.LSTM(input_size=embedding_dim, hidden_size=hidden_dim, batch_first=True)\n",
        "\n",
        "        self.batch_norm_lstm = nn.BatchNorm1d(hidden_dim)\n",
        "\n",
        "        self.fc = nn.Linear(hidden_dim, 1)\n",
        "\n",
        "        self.batch_norm_fc = nn.BatchNorm1d(1)\n",
        "\n",
        "        self.sigmoid = nn.Sigmoid()\n",
        "        self.dropout = nn.Dropout(dropout)\n",
        "\n",
        "    def forward(self, x):\n",
        "        \"\"\"\n",
        "        Forward pass of the model.\n",
        "\n",
        "        Args:\n",
        "            x (torch.Tensor): Input tensor of shape (batch_size, sequence_length, embedding_dim).\n",
        "\n",
        "        Returns:\n",
        "            torch.Tensor: Output probabilities of shape (batch_size, 1).\n",
        "        \"\"\"\n",
        "\n",
        "        _, (hidden, _) = self.lstm(x)\n",
        "        hidden = hidden[-1]\n",
        "\n",
        "        hidden = self.batch_norm_lstm(hidden)\n",
        "        hidden = self.dropout(hidden)\n",
        "\n",
        "        out = self.fc(hidden)\n",
        "        out = self.batch_norm_fc(out)\n",
        "\n",
        "        out = self.sigmoid(out)\n",
        "\n",
        "        return out\n",
        "\n",
        "embedding_dim = 100\n",
        "hidden_dim = 64\n",
        "model = SentimentAnalysisLSTM(embedding_dim=embedding_dim, hidden_dim=hidden_dim).to(device)"
      ]
    },
    {
      "cell_type": "markdown",
      "metadata": {
        "id": "Rov1z62wuGie"
      },
      "source": [
        "### Train the Model"
      ]
    },
    {
      "cell_type": "code",
      "execution_count": 35,
      "metadata": {
        "colab": {
          "base_uri": "https://localhost:8080/"
        },
        "id": "gs2OUBBkKZ-s",
        "outputId": "46e7cf3f-93a2-4769-f7ea-fe2bbfbdd5dd"
      },
      "outputs": [
        {
          "name": "stdout",
          "output_type": "stream",
          "text": [
            "Directory already exists: /content/drive/MyDrive/Sentiment_Analysis_Models\n"
          ]
        }
      ],
      "source": [
        "drive_directory = '/content/drive/MyDrive/Sentiment_Analysis_Models'\n",
        "\n",
        "if not os.path.exists(drive_directory):\n",
        "    os.makedirs(drive_directory)\n",
        "    print(f\"Created directory: {drive_directory}\")\n",
        "else:\n",
        "    print(f\"Directory already exists: {drive_directory}\")"
      ]
    },
    {
      "cell_type": "code",
      "execution_count": 36,
      "metadata": {
        "id": "kcBZsgFrKZ-s"
      },
      "outputs": [],
      "source": [
        "pytorch_model_path = os.path.join(drive_directory, \"best_sentiment_model.pth\")"
      ]
    },
    {
      "cell_type": "code",
      "execution_count": 38,
      "metadata": {
        "id": "mumQ9AZdKZ-t"
      },
      "outputs": [],
      "source": [
        "best_model = SentimentAnalysisLSTM(embedding_dim=embedding_dim, hidden_dim=hidden_dim).to(device)\n",
        "\n",
        "criterion = nn.BCELoss()\n",
        "optimizer = optim.Adam(model.parameters(), lr=0.001)\n",
        "scheduler = optim.lr_scheduler.ReduceLROnPlateau(optimizer, mode='max', patience=5, factor=0.5)\n",
        "\n",
        "early_stop_patience = 150\n",
        "best_val_acc = 0\n",
        "early_stop_counter = 0\n",
        "\n",
        "num_epochs = 100\n",
        "train_losses, val_accuracies = [], []"
      ]
    },
    {
      "cell_type": "code",
      "execution_count": 39,
      "metadata": {
        "colab": {
          "base_uri": "https://localhost:8080/"
        },
        "id": "Efj3cdMcuGMi",
        "outputId": "57a66c82-d14e-4122-b90e-78f2effd589e"
      },
      "outputs": [
        {
          "name": "stderr",
          "output_type": "stream",
          "text": [
            "Epoch 1/100: 100%|██████████| 434/434 [00:42<00:00, 10.20it/s]\n"
          ]
        },
        {
          "name": "stdout",
          "output_type": "stream",
          "text": [
            "Epoch 1/100, Loss: 316.3591, Train Accuracy: 0.5112, Validation Accuracy: 0.5242\n",
            "Saved best model to /content/drive/MyDrive/Sentiment_Analysis_Models/best_sentiment_model.pth\n"
          ]
        },
        {
          "name": "stderr",
          "output_type": "stream",
          "text": [
            "Epoch 2/100: 100%|██████████| 434/434 [00:45<00:00,  9.47it/s]\n"
          ]
        },
        {
          "name": "stdout",
          "output_type": "stream",
          "text": [
            "Epoch 2/100, Loss: 286.4863, Train Accuracy: 0.6082, Validation Accuracy: 0.6819\n",
            "Saved best model to /content/drive/MyDrive/Sentiment_Analysis_Models/best_sentiment_model.pth\n"
          ]
        },
        {
          "name": "stderr",
          "output_type": "stream",
          "text": [
            "Epoch 3/100: 100%|██████████| 434/434 [00:45<00:00,  9.55it/s]\n"
          ]
        },
        {
          "name": "stdout",
          "output_type": "stream",
          "text": [
            "Epoch 3/100, Loss: 261.0914, Train Accuracy: 0.6795, Validation Accuracy: 0.6894\n",
            "Saved best model to /content/drive/MyDrive/Sentiment_Analysis_Models/best_sentiment_model.pth\n"
          ]
        },
        {
          "name": "stderr",
          "output_type": "stream",
          "text": [
            "Epoch 4/100: 100%|██████████| 434/434 [00:46<00:00,  9.37it/s]\n"
          ]
        },
        {
          "name": "stdout",
          "output_type": "stream",
          "text": [
            "Epoch 4/100, Loss: 254.7023, Train Accuracy: 0.6894, Validation Accuracy: 0.6984\n",
            "Saved best model to /content/drive/MyDrive/Sentiment_Analysis_Models/best_sentiment_model.pth\n"
          ]
        },
        {
          "name": "stderr",
          "output_type": "stream",
          "text": [
            "Epoch 5/100: 100%|██████████| 434/434 [00:45<00:00,  9.49it/s]\n"
          ]
        },
        {
          "name": "stdout",
          "output_type": "stream",
          "text": [
            "Epoch 5/100, Loss: 250.0477, Train Accuracy: 0.6962, Validation Accuracy: 0.7069\n",
            "Saved best model to /content/drive/MyDrive/Sentiment_Analysis_Models/best_sentiment_model.pth\n"
          ]
        },
        {
          "name": "stderr",
          "output_type": "stream",
          "text": [
            "Epoch 6/100: 100%|██████████| 434/434 [00:45<00:00,  9.53it/s]\n"
          ]
        },
        {
          "name": "stdout",
          "output_type": "stream",
          "text": [
            "Epoch 6/100, Loss: 246.2054, Train Accuracy: 0.7029, Validation Accuracy: 0.7104\n",
            "Saved best model to /content/drive/MyDrive/Sentiment_Analysis_Models/best_sentiment_model.pth\n"
          ]
        },
        {
          "name": "stderr",
          "output_type": "stream",
          "text": [
            "Epoch 7/100: 100%|██████████| 434/434 [00:46<00:00,  9.37it/s]\n"
          ]
        },
        {
          "name": "stdout",
          "output_type": "stream",
          "text": [
            "Epoch 7/100, Loss: 242.5712, Train Accuracy: 0.7094, Validation Accuracy: 0.7221\n",
            "Saved best model to /content/drive/MyDrive/Sentiment_Analysis_Models/best_sentiment_model.pth\n"
          ]
        },
        {
          "name": "stderr",
          "output_type": "stream",
          "text": [
            "Epoch 8/100: 100%|██████████| 434/434 [00:45<00:00,  9.57it/s]\n"
          ]
        },
        {
          "name": "stdout",
          "output_type": "stream",
          "text": [
            "Epoch 8/100, Loss: 239.1369, Train Accuracy: 0.7152, Validation Accuracy: 0.7271\n",
            "Saved best model to /content/drive/MyDrive/Sentiment_Analysis_Models/best_sentiment_model.pth\n"
          ]
        },
        {
          "name": "stderr",
          "output_type": "stream",
          "text": [
            "Epoch 9/100: 100%|██████████| 434/434 [00:43<00:00,  9.92it/s]\n"
          ]
        },
        {
          "name": "stdout",
          "output_type": "stream",
          "text": [
            "Epoch 9/100, Loss: 235.9256, Train Accuracy: 0.7200, Validation Accuracy: 0.7261\n"
          ]
        },
        {
          "name": "stderr",
          "output_type": "stream",
          "text": [
            "Epoch 10/100: 100%|██████████| 434/434 [00:45<00:00,  9.48it/s]\n"
          ]
        },
        {
          "name": "stdout",
          "output_type": "stream",
          "text": [
            "Epoch 10/100, Loss: 231.5112, Train Accuracy: 0.7263, Validation Accuracy: 0.7399\n",
            "Saved best model to /content/drive/MyDrive/Sentiment_Analysis_Models/best_sentiment_model.pth\n"
          ]
        },
        {
          "name": "stderr",
          "output_type": "stream",
          "text": [
            "Epoch 11/100: 100%|██████████| 434/434 [00:46<00:00,  9.37it/s]\n"
          ]
        },
        {
          "name": "stdout",
          "output_type": "stream",
          "text": [
            "Epoch 11/100, Loss: 227.0530, Train Accuracy: 0.7354, Validation Accuracy: 0.7401\n",
            "Saved best model to /content/drive/MyDrive/Sentiment_Analysis_Models/best_sentiment_model.pth\n"
          ]
        },
        {
          "name": "stderr",
          "output_type": "stream",
          "text": [
            "Epoch 12/100: 100%|██████████| 434/434 [00:46<00:00,  9.31it/s]\n"
          ]
        },
        {
          "name": "stdout",
          "output_type": "stream",
          "text": [
            "Epoch 12/100, Loss: 222.5171, Train Accuracy: 0.7412, Validation Accuracy: 0.7532\n",
            "Saved best model to /content/drive/MyDrive/Sentiment_Analysis_Models/best_sentiment_model.pth\n"
          ]
        },
        {
          "name": "stderr",
          "output_type": "stream",
          "text": [
            "Epoch 13/100: 100%|██████████| 434/434 [00:45<00:00,  9.51it/s]\n"
          ]
        },
        {
          "name": "stdout",
          "output_type": "stream",
          "text": [
            "Epoch 13/100, Loss: 217.3176, Train Accuracy: 0.7516, Validation Accuracy: 0.7491\n"
          ]
        },
        {
          "name": "stderr",
          "output_type": "stream",
          "text": [
            "Epoch 14/100: 100%|██████████| 434/434 [00:45<00:00,  9.45it/s]\n"
          ]
        },
        {
          "name": "stdout",
          "output_type": "stream",
          "text": [
            "Epoch 14/100, Loss: 212.1668, Train Accuracy: 0.7594, Validation Accuracy: 0.7707\n",
            "Saved best model to /content/drive/MyDrive/Sentiment_Analysis_Models/best_sentiment_model.pth\n"
          ]
        },
        {
          "name": "stderr",
          "output_type": "stream",
          "text": [
            "Epoch 15/100: 100%|██████████| 434/434 [00:45<00:00,  9.51it/s]\n"
          ]
        },
        {
          "name": "stdout",
          "output_type": "stream",
          "text": [
            "Epoch 15/100, Loss: 206.0923, Train Accuracy: 0.7681, Validation Accuracy: 0.7718\n",
            "Saved best model to /content/drive/MyDrive/Sentiment_Analysis_Models/best_sentiment_model.pth\n"
          ]
        },
        {
          "name": "stderr",
          "output_type": "stream",
          "text": [
            "Epoch 16/100: 100%|██████████| 434/434 [00:47<00:00,  9.18it/s]\n"
          ]
        },
        {
          "name": "stdout",
          "output_type": "stream",
          "text": [
            "Epoch 16/100, Loss: 201.1764, Train Accuracy: 0.7769, Validation Accuracy: 0.7798\n",
            "Saved best model to /content/drive/MyDrive/Sentiment_Analysis_Models/best_sentiment_model.pth\n"
          ]
        },
        {
          "name": "stderr",
          "output_type": "stream",
          "text": [
            "Epoch 17/100: 100%|██████████| 434/434 [00:45<00:00,  9.53it/s]\n"
          ]
        },
        {
          "name": "stdout",
          "output_type": "stream",
          "text": [
            "Epoch 17/100, Loss: 195.4393, Train Accuracy: 0.7867, Validation Accuracy: 0.7872\n",
            "Saved best model to /content/drive/MyDrive/Sentiment_Analysis_Models/best_sentiment_model.pth\n"
          ]
        },
        {
          "name": "stderr",
          "output_type": "stream",
          "text": [
            "Epoch 18/100: 100%|██████████| 434/434 [01:00<00:00,  7.20it/s]\n"
          ]
        },
        {
          "name": "stdout",
          "output_type": "stream",
          "text": [
            "Epoch 18/100, Loss: 190.9217, Train Accuracy: 0.7944, Validation Accuracy: 0.7803\n"
          ]
        },
        {
          "name": "stderr",
          "output_type": "stream",
          "text": [
            "Epoch 19/100: 100%|██████████| 434/434 [00:50<00:00,  8.58it/s]\n"
          ]
        },
        {
          "name": "stdout",
          "output_type": "stream",
          "text": [
            "Epoch 19/100, Loss: 188.9073, Train Accuracy: 0.7959, Validation Accuracy: 0.7903\n",
            "Saved best model to /content/drive/MyDrive/Sentiment_Analysis_Models/best_sentiment_model.pth\n"
          ]
        },
        {
          "name": "stderr",
          "output_type": "stream",
          "text": [
            "Epoch 20/100: 100%|██████████| 434/434 [00:45<00:00,  9.47it/s]\n"
          ]
        },
        {
          "name": "stdout",
          "output_type": "stream",
          "text": [
            "Epoch 20/100, Loss: 183.9766, Train Accuracy: 0.8055, Validation Accuracy: 0.7960\n",
            "Saved best model to /content/drive/MyDrive/Sentiment_Analysis_Models/best_sentiment_model.pth\n"
          ]
        },
        {
          "name": "stderr",
          "output_type": "stream",
          "text": [
            "Epoch 21/100: 100%|██████████| 434/434 [00:50<00:00,  8.52it/s]\n"
          ]
        },
        {
          "name": "stdout",
          "output_type": "stream",
          "text": [
            "Epoch 21/100, Loss: 178.0221, Train Accuracy: 0.8141, Validation Accuracy: 0.8051\n",
            "Saved best model to /content/drive/MyDrive/Sentiment_Analysis_Models/best_sentiment_model.pth\n"
          ]
        },
        {
          "name": "stderr",
          "output_type": "stream",
          "text": [
            "Epoch 22/100: 100%|██████████| 434/434 [00:46<00:00,  9.41it/s]\n"
          ]
        },
        {
          "name": "stdout",
          "output_type": "stream",
          "text": [
            "Epoch 22/100, Loss: 173.7634, Train Accuracy: 0.8201, Validation Accuracy: 0.8067\n",
            "Saved best model to /content/drive/MyDrive/Sentiment_Analysis_Models/best_sentiment_model.pth\n"
          ]
        },
        {
          "name": "stderr",
          "output_type": "stream",
          "text": [
            "Epoch 23/100: 100%|██████████| 434/434 [00:45<00:00,  9.48it/s]\n"
          ]
        },
        {
          "name": "stdout",
          "output_type": "stream",
          "text": [
            "Epoch 23/100, Loss: 170.2309, Train Accuracy: 0.8254, Validation Accuracy: 0.8099\n",
            "Saved best model to /content/drive/MyDrive/Sentiment_Analysis_Models/best_sentiment_model.pth\n"
          ]
        },
        {
          "name": "stderr",
          "output_type": "stream",
          "text": [
            "Epoch 24/100: 100%|██████████| 434/434 [00:46<00:00,  9.36it/s]\n"
          ]
        },
        {
          "name": "stdout",
          "output_type": "stream",
          "text": [
            "Epoch 24/100, Loss: 167.2529, Train Accuracy: 0.8302, Validation Accuracy: 0.8180\n",
            "Saved best model to /content/drive/MyDrive/Sentiment_Analysis_Models/best_sentiment_model.pth\n"
          ]
        },
        {
          "name": "stderr",
          "output_type": "stream",
          "text": [
            "Epoch 25/100: 100%|██████████| 434/434 [00:47<00:00,  9.19it/s]\n"
          ]
        },
        {
          "name": "stdout",
          "output_type": "stream",
          "text": [
            "Epoch 25/100, Loss: 163.8428, Train Accuracy: 0.8355, Validation Accuracy: 0.8033\n"
          ]
        },
        {
          "name": "stderr",
          "output_type": "stream",
          "text": [
            "Epoch 26/100: 100%|██████████| 434/434 [00:45<00:00,  9.54it/s]\n"
          ]
        },
        {
          "name": "stdout",
          "output_type": "stream",
          "text": [
            "Epoch 26/100, Loss: 158.7104, Train Accuracy: 0.8442, Validation Accuracy: 0.7931\n"
          ]
        },
        {
          "name": "stderr",
          "output_type": "stream",
          "text": [
            "Epoch 27/100: 100%|██████████| 434/434 [00:45<00:00,  9.48it/s]\n"
          ]
        },
        {
          "name": "stdout",
          "output_type": "stream",
          "text": [
            "Epoch 27/100, Loss: 153.5456, Train Accuracy: 0.8495, Validation Accuracy: 0.8180\n"
          ]
        },
        {
          "name": "stderr",
          "output_type": "stream",
          "text": [
            "Epoch 28/100: 100%|██████████| 434/434 [00:54<00:00,  7.96it/s]\n"
          ]
        },
        {
          "name": "stdout",
          "output_type": "stream",
          "text": [
            "Epoch 28/100, Loss: 155.1314, Train Accuracy: 0.8475, Validation Accuracy: 0.7817\n"
          ]
        },
        {
          "name": "stderr",
          "output_type": "stream",
          "text": [
            "Epoch 29/100: 100%|██████████| 434/434 [00:46<00:00,  9.31it/s]\n"
          ]
        },
        {
          "name": "stdout",
          "output_type": "stream",
          "text": [
            "Epoch 29/100, Loss: 148.7808, Train Accuracy: 0.8551, Validation Accuracy: 0.7757\n"
          ]
        },
        {
          "name": "stderr",
          "output_type": "stream",
          "text": [
            "Epoch 30/100: 100%|██████████| 434/434 [00:45<00:00,  9.54it/s]\n"
          ]
        },
        {
          "name": "stdout",
          "output_type": "stream",
          "text": [
            "Epoch 30/100, Loss: 147.4583, Train Accuracy: 0.8575, Validation Accuracy: 0.7689\n"
          ]
        },
        {
          "name": "stderr",
          "output_type": "stream",
          "text": [
            "Epoch 31/100: 100%|██████████| 434/434 [00:45<00:00,  9.44it/s]\n"
          ]
        },
        {
          "name": "stdout",
          "output_type": "stream",
          "text": [
            "Epoch 31/100, Loss: 142.1023, Train Accuracy: 0.8646, Validation Accuracy: 0.8300\n",
            "Saved best model to /content/drive/MyDrive/Sentiment_Analysis_Models/best_sentiment_model.pth\n"
          ]
        },
        {
          "name": "stderr",
          "output_type": "stream",
          "text": [
            "Epoch 32/100: 100%|██████████| 434/434 [00:46<00:00,  9.37it/s]\n"
          ]
        },
        {
          "name": "stdout",
          "output_type": "stream",
          "text": [
            "Epoch 32/100, Loss: 135.1294, Train Accuracy: 0.8724, Validation Accuracy: 0.8454\n",
            "Saved best model to /content/drive/MyDrive/Sentiment_Analysis_Models/best_sentiment_model.pth\n"
          ]
        },
        {
          "name": "stderr",
          "output_type": "stream",
          "text": [
            "Epoch 33/100: 100%|██████████| 434/434 [00:45<00:00,  9.50it/s]\n"
          ]
        },
        {
          "name": "stdout",
          "output_type": "stream",
          "text": [
            "Epoch 33/100, Loss: 130.6954, Train Accuracy: 0.8784, Validation Accuracy: 0.8485\n",
            "Saved best model to /content/drive/MyDrive/Sentiment_Analysis_Models/best_sentiment_model.pth\n"
          ]
        },
        {
          "name": "stderr",
          "output_type": "stream",
          "text": [
            "Epoch 34/100: 100%|██████████| 434/434 [00:45<00:00,  9.46it/s]\n"
          ]
        },
        {
          "name": "stdout",
          "output_type": "stream",
          "text": [
            "Epoch 34/100, Loss: 126.5119, Train Accuracy: 0.8836, Validation Accuracy: 0.8433\n"
          ]
        },
        {
          "name": "stderr",
          "output_type": "stream",
          "text": [
            "Epoch 35/100: 100%|██████████| 434/434 [00:46<00:00,  9.30it/s]\n"
          ]
        },
        {
          "name": "stdout",
          "output_type": "stream",
          "text": [
            "Epoch 35/100, Loss: 123.6958, Train Accuracy: 0.8878, Validation Accuracy: 0.8443\n"
          ]
        },
        {
          "name": "stderr",
          "output_type": "stream",
          "text": [
            "Epoch 36/100: 100%|██████████| 434/434 [00:45<00:00,  9.50it/s]\n"
          ]
        },
        {
          "name": "stdout",
          "output_type": "stream",
          "text": [
            "Epoch 36/100, Loss: 122.0448, Train Accuracy: 0.8894, Validation Accuracy: 0.8362\n"
          ]
        },
        {
          "name": "stderr",
          "output_type": "stream",
          "text": [
            "Epoch 37/100: 100%|██████████| 434/434 [00:45<00:00,  9.49it/s]\n"
          ]
        },
        {
          "name": "stdout",
          "output_type": "stream",
          "text": [
            "Epoch 37/100, Loss: 121.4283, Train Accuracy: 0.8897, Validation Accuracy: 0.8423\n"
          ]
        },
        {
          "name": "stderr",
          "output_type": "stream",
          "text": [
            "Epoch 38/100: 100%|██████████| 434/434 [00:46<00:00,  9.34it/s]\n"
          ]
        },
        {
          "name": "stdout",
          "output_type": "stream",
          "text": [
            "Epoch 38/100, Loss: 118.8091, Train Accuracy: 0.8934, Validation Accuracy: 0.8482\n"
          ]
        },
        {
          "name": "stderr",
          "output_type": "stream",
          "text": [
            "Epoch 39/100: 100%|██████████| 434/434 [01:00<00:00,  7.17it/s]\n"
          ]
        },
        {
          "name": "stdout",
          "output_type": "stream",
          "text": [
            "Epoch 39/100, Loss: 116.5527, Train Accuracy: 0.8962, Validation Accuracy: 0.8499\n",
            "Saved best model to /content/drive/MyDrive/Sentiment_Analysis_Models/best_sentiment_model.pth\n"
          ]
        },
        {
          "name": "stderr",
          "output_type": "stream",
          "text": [
            "Epoch 40/100: 100%|██████████| 434/434 [00:45<00:00,  9.48it/s]\n"
          ]
        },
        {
          "name": "stdout",
          "output_type": "stream",
          "text": [
            "Epoch 40/100, Loss: 115.5237, Train Accuracy: 0.8969, Validation Accuracy: 0.8543\n",
            "Saved best model to /content/drive/MyDrive/Sentiment_Analysis_Models/best_sentiment_model.pth\n"
          ]
        },
        {
          "name": "stderr",
          "output_type": "stream",
          "text": [
            "Epoch 41/100: 100%|██████████| 434/434 [00:46<00:00,  9.29it/s]\n"
          ]
        },
        {
          "name": "stdout",
          "output_type": "stream",
          "text": [
            "Epoch 41/100, Loss: 113.3484, Train Accuracy: 0.9004, Validation Accuracy: 0.8650\n",
            "Saved best model to /content/drive/MyDrive/Sentiment_Analysis_Models/best_sentiment_model.pth\n"
          ]
        },
        {
          "name": "stderr",
          "output_type": "stream",
          "text": [
            "Epoch 42/100: 100%|██████████| 434/434 [00:45<00:00,  9.48it/s]\n"
          ]
        },
        {
          "name": "stdout",
          "output_type": "stream",
          "text": [
            "Epoch 42/100, Loss: 113.7041, Train Accuracy: 0.8991, Validation Accuracy: 0.8718\n",
            "Saved best model to /content/drive/MyDrive/Sentiment_Analysis_Models/best_sentiment_model.pth\n"
          ]
        },
        {
          "name": "stderr",
          "output_type": "stream",
          "text": [
            "Epoch 43/100: 100%|██████████| 434/434 [00:47<00:00,  9.21it/s]\n"
          ]
        },
        {
          "name": "stdout",
          "output_type": "stream",
          "text": [
            "Epoch 43/100, Loss: 110.8211, Train Accuracy: 0.9019, Validation Accuracy: 0.8741\n",
            "Saved best model to /content/drive/MyDrive/Sentiment_Analysis_Models/best_sentiment_model.pth\n"
          ]
        },
        {
          "name": "stderr",
          "output_type": "stream",
          "text": [
            "Epoch 44/100: 100%|██████████| 434/434 [00:46<00:00,  9.35it/s]\n"
          ]
        },
        {
          "name": "stdout",
          "output_type": "stream",
          "text": [
            "Epoch 44/100, Loss: 108.4798, Train Accuracy: 0.9061, Validation Accuracy: 0.8730\n"
          ]
        },
        {
          "name": "stderr",
          "output_type": "stream",
          "text": [
            "Epoch 45/100: 100%|██████████| 434/434 [00:45<00:00,  9.49it/s]\n"
          ]
        },
        {
          "name": "stdout",
          "output_type": "stream",
          "text": [
            "Epoch 45/100, Loss: 109.3001, Train Accuracy: 0.9028, Validation Accuracy: 0.8733\n"
          ]
        },
        {
          "name": "stderr",
          "output_type": "stream",
          "text": [
            "Epoch 46/100: 100%|██████████| 434/434 [00:45<00:00,  9.50it/s]\n"
          ]
        },
        {
          "name": "stdout",
          "output_type": "stream",
          "text": [
            "Epoch 46/100, Loss: 106.6644, Train Accuracy: 0.9069, Validation Accuracy: 0.8692\n"
          ]
        },
        {
          "name": "stderr",
          "output_type": "stream",
          "text": [
            "Epoch 47/100: 100%|██████████| 434/434 [00:45<00:00,  9.62it/s]\n"
          ]
        },
        {
          "name": "stdout",
          "output_type": "stream",
          "text": [
            "Epoch 47/100, Loss: 105.0771, Train Accuracy: 0.9089, Validation Accuracy: 0.8683\n"
          ]
        },
        {
          "name": "stderr",
          "output_type": "stream",
          "text": [
            "Epoch 48/100: 100%|██████████| 434/434 [00:45<00:00,  9.52it/s]\n"
          ]
        },
        {
          "name": "stdout",
          "output_type": "stream",
          "text": [
            "Epoch 48/100, Loss: 104.6849, Train Accuracy: 0.9099, Validation Accuracy: 0.8715\n"
          ]
        },
        {
          "name": "stderr",
          "output_type": "stream",
          "text": [
            "Epoch 49/100: 100%|██████████| 434/434 [00:45<00:00,  9.57it/s]\n"
          ]
        },
        {
          "name": "stdout",
          "output_type": "stream",
          "text": [
            "Epoch 49/100, Loss: 104.6893, Train Accuracy: 0.9100, Validation Accuracy: 0.8736\n"
          ]
        },
        {
          "name": "stderr",
          "output_type": "stream",
          "text": [
            "Epoch 50/100: 100%|██████████| 434/434 [00:44<00:00,  9.66it/s]\n"
          ]
        },
        {
          "name": "stdout",
          "output_type": "stream",
          "text": [
            "Epoch 50/100, Loss: 104.6484, Train Accuracy: 0.9089, Validation Accuracy: 0.8733\n"
          ]
        },
        {
          "name": "stderr",
          "output_type": "stream",
          "text": [
            "Epoch 51/100: 100%|██████████| 434/434 [00:45<00:00,  9.51it/s]\n"
          ]
        },
        {
          "name": "stdout",
          "output_type": "stream",
          "text": [
            "Epoch 51/100, Loss: 99.8025, Train Accuracy: 0.9152, Validation Accuracy: 0.8824\n",
            "Saved best model to /content/drive/MyDrive/Sentiment_Analysis_Models/best_sentiment_model.pth\n"
          ]
        },
        {
          "name": "stderr",
          "output_type": "stream",
          "text": [
            "Epoch 52/100: 100%|██████████| 434/434 [00:45<00:00,  9.60it/s]\n"
          ]
        },
        {
          "name": "stdout",
          "output_type": "stream",
          "text": [
            "Epoch 52/100, Loss: 97.4534, Train Accuracy: 0.9187, Validation Accuracy: 0.8804\n"
          ]
        },
        {
          "name": "stderr",
          "output_type": "stream",
          "text": [
            "Epoch 53/100: 100%|██████████| 434/434 [00:44<00:00,  9.66it/s]\n"
          ]
        },
        {
          "name": "stdout",
          "output_type": "stream",
          "text": [
            "Epoch 53/100, Loss: 94.1551, Train Accuracy: 0.9220, Validation Accuracy: 0.8764\n"
          ]
        },
        {
          "name": "stderr",
          "output_type": "stream",
          "text": [
            "Epoch 54/100: 100%|██████████| 434/434 [00:45<00:00,  9.62it/s]\n"
          ]
        },
        {
          "name": "stdout",
          "output_type": "stream",
          "text": [
            "Epoch 54/100, Loss: 94.0400, Train Accuracy: 0.9221, Validation Accuracy: 0.8817\n"
          ]
        },
        {
          "name": "stderr",
          "output_type": "stream",
          "text": [
            "Epoch 55/100: 100%|██████████| 434/434 [00:45<00:00,  9.51it/s]\n"
          ]
        },
        {
          "name": "stdout",
          "output_type": "stream",
          "text": [
            "Epoch 55/100, Loss: 92.2634, Train Accuracy: 0.9247, Validation Accuracy: 0.8835\n",
            "Saved best model to /content/drive/MyDrive/Sentiment_Analysis_Models/best_sentiment_model.pth\n"
          ]
        },
        {
          "name": "stderr",
          "output_type": "stream",
          "text": [
            "Epoch 56/100: 100%|██████████| 434/434 [00:45<00:00,  9.60it/s]\n"
          ]
        },
        {
          "name": "stdout",
          "output_type": "stream",
          "text": [
            "Epoch 56/100, Loss: 91.6774, Train Accuracy: 0.9246, Validation Accuracy: 0.8746\n"
          ]
        },
        {
          "name": "stderr",
          "output_type": "stream",
          "text": [
            "Epoch 57/100: 100%|██████████| 434/434 [00:45<00:00,  9.61it/s]\n"
          ]
        },
        {
          "name": "stdout",
          "output_type": "stream",
          "text": [
            "Epoch 57/100, Loss: 91.3684, Train Accuracy: 0.9260, Validation Accuracy: 0.8752\n"
          ]
        },
        {
          "name": "stderr",
          "output_type": "stream",
          "text": [
            "Epoch 58/100: 100%|██████████| 434/434 [00:45<00:00,  9.58it/s]\n"
          ]
        },
        {
          "name": "stdout",
          "output_type": "stream",
          "text": [
            "Epoch 58/100, Loss: 89.3938, Train Accuracy: 0.9281, Validation Accuracy: 0.8772\n"
          ]
        },
        {
          "name": "stderr",
          "output_type": "stream",
          "text": [
            "Epoch 59/100: 100%|██████████| 434/434 [00:45<00:00,  9.52it/s]\n"
          ]
        },
        {
          "name": "stdout",
          "output_type": "stream",
          "text": [
            "Epoch 59/100, Loss: 89.0884, Train Accuracy: 0.9284, Validation Accuracy: 0.8793\n"
          ]
        },
        {
          "name": "stderr",
          "output_type": "stream",
          "text": [
            "Epoch 60/100: 100%|██████████| 434/434 [00:44<00:00,  9.68it/s]\n"
          ]
        },
        {
          "name": "stdout",
          "output_type": "stream",
          "text": [
            "Epoch 60/100, Loss: 88.8933, Train Accuracy: 0.9274, Validation Accuracy: 0.8751\n"
          ]
        },
        {
          "name": "stderr",
          "output_type": "stream",
          "text": [
            "Epoch 61/100: 100%|██████████| 434/434 [00:45<00:00,  9.60it/s]\n"
          ]
        },
        {
          "name": "stdout",
          "output_type": "stream",
          "text": [
            "Epoch 61/100, Loss: 87.4045, Train Accuracy: 0.9289, Validation Accuracy: 0.8773\n"
          ]
        },
        {
          "name": "stderr",
          "output_type": "stream",
          "text": [
            "Epoch 62/100: 100%|██████████| 434/434 [00:45<00:00,  9.56it/s]\n"
          ]
        },
        {
          "name": "stdout",
          "output_type": "stream",
          "text": [
            "Epoch 62/100, Loss: 90.6010, Train Accuracy: 0.9248, Validation Accuracy: 0.8887\n",
            "Saved best model to /content/drive/MyDrive/Sentiment_Analysis_Models/best_sentiment_model.pth\n"
          ]
        },
        {
          "name": "stderr",
          "output_type": "stream",
          "text": [
            "Epoch 63/100: 100%|██████████| 434/434 [00:44<00:00,  9.65it/s]\n"
          ]
        },
        {
          "name": "stdout",
          "output_type": "stream",
          "text": [
            "Epoch 63/100, Loss: 87.7172, Train Accuracy: 0.9288, Validation Accuracy: 0.8921\n",
            "Saved best model to /content/drive/MyDrive/Sentiment_Analysis_Models/best_sentiment_model.pth\n"
          ]
        },
        {
          "name": "stderr",
          "output_type": "stream",
          "text": [
            "Epoch 64/100: 100%|██████████| 434/434 [00:45<00:00,  9.62it/s]\n"
          ]
        },
        {
          "name": "stdout",
          "output_type": "stream",
          "text": [
            "Epoch 64/100, Loss: 86.2742, Train Accuracy: 0.9298, Validation Accuracy: 0.9010\n",
            "Saved best model to /content/drive/MyDrive/Sentiment_Analysis_Models/best_sentiment_model.pth\n"
          ]
        },
        {
          "name": "stderr",
          "output_type": "stream",
          "text": [
            "Epoch 65/100: 100%|██████████| 434/434 [00:45<00:00,  9.63it/s]\n"
          ]
        },
        {
          "name": "stdout",
          "output_type": "stream",
          "text": [
            "Epoch 65/100, Loss: 83.9446, Train Accuracy: 0.9324, Validation Accuracy: 0.9024\n",
            "Saved best model to /content/drive/MyDrive/Sentiment_Analysis_Models/best_sentiment_model.pth\n"
          ]
        },
        {
          "name": "stderr",
          "output_type": "stream",
          "text": [
            "Epoch 66/100: 100%|██████████| 434/434 [00:45<00:00,  9.51it/s]\n"
          ]
        },
        {
          "name": "stdout",
          "output_type": "stream",
          "text": [
            "Epoch 66/100, Loss: 82.7349, Train Accuracy: 0.9335, Validation Accuracy: 0.8979\n"
          ]
        },
        {
          "name": "stderr",
          "output_type": "stream",
          "text": [
            "Epoch 67/100: 100%|██████████| 434/434 [00:45<00:00,  9.61it/s]\n"
          ]
        },
        {
          "name": "stdout",
          "output_type": "stream",
          "text": [
            "Epoch 67/100, Loss: 81.9304, Train Accuracy: 0.9347, Validation Accuracy: 0.9041\n",
            "Saved best model to /content/drive/MyDrive/Sentiment_Analysis_Models/best_sentiment_model.pth\n"
          ]
        },
        {
          "name": "stderr",
          "output_type": "stream",
          "text": [
            "Epoch 68/100: 100%|██████████| 434/434 [00:44<00:00,  9.68it/s]\n"
          ]
        },
        {
          "name": "stdout",
          "output_type": "stream",
          "text": [
            "Epoch 68/100, Loss: 81.0832, Train Accuracy: 0.9358, Validation Accuracy: 0.9055\n",
            "Saved best model to /content/drive/MyDrive/Sentiment_Analysis_Models/best_sentiment_model.pth\n"
          ]
        },
        {
          "name": "stderr",
          "output_type": "stream",
          "text": [
            "Epoch 69/100: 100%|██████████| 434/434 [00:45<00:00,  9.59it/s]\n"
          ]
        },
        {
          "name": "stdout",
          "output_type": "stream",
          "text": [
            "Epoch 69/100, Loss: 80.4897, Train Accuracy: 0.9361, Validation Accuracy: 0.9063\n",
            "Saved best model to /content/drive/MyDrive/Sentiment_Analysis_Models/best_sentiment_model.pth\n"
          ]
        },
        {
          "name": "stderr",
          "output_type": "stream",
          "text": [
            "Epoch 70/100: 100%|██████████| 434/434 [00:45<00:00,  9.54it/s]\n"
          ]
        },
        {
          "name": "stdout",
          "output_type": "stream",
          "text": [
            "Epoch 70/100, Loss: 80.0664, Train Accuracy: 0.9372, Validation Accuracy: 0.9060\n"
          ]
        },
        {
          "name": "stderr",
          "output_type": "stream",
          "text": [
            "Epoch 71/100: 100%|██████████| 434/434 [00:44<00:00,  9.65it/s]\n"
          ]
        },
        {
          "name": "stdout",
          "output_type": "stream",
          "text": [
            "Epoch 71/100, Loss: 79.9088, Train Accuracy: 0.9372, Validation Accuracy: 0.9050\n"
          ]
        },
        {
          "name": "stderr",
          "output_type": "stream",
          "text": [
            "Epoch 72/100: 100%|██████████| 434/434 [00:45<00:00,  9.62it/s]\n"
          ]
        },
        {
          "name": "stdout",
          "output_type": "stream",
          "text": [
            "Epoch 72/100, Loss: 79.6307, Train Accuracy: 0.9371, Validation Accuracy: 0.9046\n"
          ]
        },
        {
          "name": "stderr",
          "output_type": "stream",
          "text": [
            "Epoch 73/100: 100%|██████████| 434/434 [00:44<00:00,  9.67it/s]\n"
          ]
        },
        {
          "name": "stdout",
          "output_type": "stream",
          "text": [
            "Epoch 73/100, Loss: 78.8801, Train Accuracy: 0.9382, Validation Accuracy: 0.9033\n"
          ]
        },
        {
          "name": "stderr",
          "output_type": "stream",
          "text": [
            "Epoch 74/100: 100%|██████████| 434/434 [00:45<00:00,  9.56it/s]\n"
          ]
        },
        {
          "name": "stdout",
          "output_type": "stream",
          "text": [
            "Epoch 74/100, Loss: 80.4218, Train Accuracy: 0.9363, Validation Accuracy: 0.9107\n",
            "Saved best model to /content/drive/MyDrive/Sentiment_Analysis_Models/best_sentiment_model.pth\n"
          ]
        },
        {
          "name": "stderr",
          "output_type": "stream",
          "text": [
            "Epoch 75/100: 100%|██████████| 434/434 [00:45<00:00,  9.63it/s]\n"
          ]
        },
        {
          "name": "stdout",
          "output_type": "stream",
          "text": [
            "Epoch 75/100, Loss: 79.1231, Train Accuracy: 0.9375, Validation Accuracy: 0.9101\n"
          ]
        },
        {
          "name": "stderr",
          "output_type": "stream",
          "text": [
            "Epoch 76/100: 100%|██████████| 434/434 [00:45<00:00,  9.64it/s]\n"
          ]
        },
        {
          "name": "stdout",
          "output_type": "stream",
          "text": [
            "Epoch 76/100, Loss: 77.9336, Train Accuracy: 0.9388, Validation Accuracy: 0.9120\n",
            "Saved best model to /content/drive/MyDrive/Sentiment_Analysis_Models/best_sentiment_model.pth\n"
          ]
        },
        {
          "name": "stderr",
          "output_type": "stream",
          "text": [
            "Epoch 77/100: 100%|██████████| 434/434 [00:45<00:00,  9.52it/s]\n"
          ]
        },
        {
          "name": "stdout",
          "output_type": "stream",
          "text": [
            "Epoch 77/100, Loss: 77.2562, Train Accuracy: 0.9402, Validation Accuracy: 0.9084\n"
          ]
        },
        {
          "name": "stderr",
          "output_type": "stream",
          "text": [
            "Epoch 78/100: 100%|██████████| 434/434 [00:44<00:00,  9.65it/s]\n"
          ]
        },
        {
          "name": "stdout",
          "output_type": "stream",
          "text": [
            "Epoch 78/100, Loss: 76.7609, Train Accuracy: 0.9408, Validation Accuracy: 0.9138\n",
            "Saved best model to /content/drive/MyDrive/Sentiment_Analysis_Models/best_sentiment_model.pth\n"
          ]
        },
        {
          "name": "stderr",
          "output_type": "stream",
          "text": [
            "Epoch 79/100: 100%|██████████| 434/434 [00:45<00:00,  9.61it/s]\n"
          ]
        },
        {
          "name": "stdout",
          "output_type": "stream",
          "text": [
            "Epoch 79/100, Loss: 77.0220, Train Accuracy: 0.9401, Validation Accuracy: 0.9127\n"
          ]
        },
        {
          "name": "stderr",
          "output_type": "stream",
          "text": [
            "Epoch 80/100: 100%|██████████| 434/434 [00:44<00:00,  9.66it/s]\n"
          ]
        },
        {
          "name": "stdout",
          "output_type": "stream",
          "text": [
            "Epoch 80/100, Loss: 75.8937, Train Accuracy: 0.9409, Validation Accuracy: 0.9114\n"
          ]
        },
        {
          "name": "stderr",
          "output_type": "stream",
          "text": [
            "Epoch 81/100: 100%|██████████| 434/434 [00:45<00:00,  9.50it/s]\n"
          ]
        },
        {
          "name": "stdout",
          "output_type": "stream",
          "text": [
            "Epoch 81/100, Loss: 79.1898, Train Accuracy: 0.9379, Validation Accuracy: 0.9112\n"
          ]
        },
        {
          "name": "stderr",
          "output_type": "stream",
          "text": [
            "Epoch 82/100: 100%|██████████| 434/434 [00:45<00:00,  9.60it/s]\n"
          ]
        },
        {
          "name": "stdout",
          "output_type": "stream",
          "text": [
            "Epoch 82/100, Loss: 76.2452, Train Accuracy: 0.9408, Validation Accuracy: 0.9141\n",
            "Saved best model to /content/drive/MyDrive/Sentiment_Analysis_Models/best_sentiment_model.pth\n"
          ]
        },
        {
          "name": "stderr",
          "output_type": "stream",
          "text": [
            "Epoch 83/100: 100%|██████████| 434/434 [00:44<00:00,  9.65it/s]\n"
          ]
        },
        {
          "name": "stdout",
          "output_type": "stream",
          "text": [
            "Epoch 83/100, Loss: 76.1316, Train Accuracy: 0.9412, Validation Accuracy: 0.9143\n",
            "Saved best model to /content/drive/MyDrive/Sentiment_Analysis_Models/best_sentiment_model.pth\n"
          ]
        },
        {
          "name": "stderr",
          "output_type": "stream",
          "text": [
            "Epoch 84/100: 100%|██████████| 434/434 [00:45<00:00,  9.61it/s]\n"
          ]
        },
        {
          "name": "stdout",
          "output_type": "stream",
          "text": [
            "Epoch 84/100, Loss: 75.6961, Train Accuracy: 0.9416, Validation Accuracy: 0.9118\n"
          ]
        },
        {
          "name": "stderr",
          "output_type": "stream",
          "text": [
            "Epoch 85/100: 100%|██████████| 434/434 [00:45<00:00,  9.50it/s]\n"
          ]
        },
        {
          "name": "stdout",
          "output_type": "stream",
          "text": [
            "Epoch 85/100, Loss: 75.1983, Train Accuracy: 0.9422, Validation Accuracy: 0.9167\n",
            "Saved best model to /content/drive/MyDrive/Sentiment_Analysis_Models/best_sentiment_model.pth\n"
          ]
        },
        {
          "name": "stderr",
          "output_type": "stream",
          "text": [
            "Epoch 86/100: 100%|██████████| 434/434 [00:44<00:00,  9.66it/s]\n"
          ]
        },
        {
          "name": "stdout",
          "output_type": "stream",
          "text": [
            "Epoch 86/100, Loss: 74.8732, Train Accuracy: 0.9424, Validation Accuracy: 0.9148\n"
          ]
        },
        {
          "name": "stderr",
          "output_type": "stream",
          "text": [
            "Epoch 87/100: 100%|██████████| 434/434 [00:48<00:00,  8.91it/s]\n"
          ]
        },
        {
          "name": "stdout",
          "output_type": "stream",
          "text": [
            "Epoch 87/100, Loss: 75.3903, Train Accuracy: 0.9417, Validation Accuracy: 0.9122\n"
          ]
        },
        {
          "name": "stderr",
          "output_type": "stream",
          "text": [
            "Epoch 88/100: 100%|██████████| 434/434 [00:45<00:00,  9.59it/s]\n"
          ]
        },
        {
          "name": "stdout",
          "output_type": "stream",
          "text": [
            "Epoch 88/100, Loss: 75.2450, Train Accuracy: 0.9421, Validation Accuracy: 0.9152\n"
          ]
        },
        {
          "name": "stderr",
          "output_type": "stream",
          "text": [
            "Epoch 89/100: 100%|██████████| 434/434 [00:44<00:00,  9.82it/s]\n"
          ]
        },
        {
          "name": "stdout",
          "output_type": "stream",
          "text": [
            "Epoch 89/100, Loss: 76.8329, Train Accuracy: 0.9398, Validation Accuracy: 0.9071\n"
          ]
        },
        {
          "name": "stderr",
          "output_type": "stream",
          "text": [
            "Epoch 90/100: 100%|██████████| 434/434 [00:44<00:00,  9.86it/s]\n"
          ]
        },
        {
          "name": "stdout",
          "output_type": "stream",
          "text": [
            "Epoch 90/100, Loss: 75.8028, Train Accuracy: 0.9410, Validation Accuracy: 0.9169\n",
            "Saved best model to /content/drive/MyDrive/Sentiment_Analysis_Models/best_sentiment_model.pth\n"
          ]
        },
        {
          "name": "stderr",
          "output_type": "stream",
          "text": [
            "Epoch 91/100: 100%|██████████| 434/434 [00:44<00:00,  9.75it/s]\n"
          ]
        },
        {
          "name": "stdout",
          "output_type": "stream",
          "text": [
            "Epoch 91/100, Loss: 73.4308, Train Accuracy: 0.9438, Validation Accuracy: 0.9180\n",
            "Saved best model to /content/drive/MyDrive/Sentiment_Analysis_Models/best_sentiment_model.pth\n"
          ]
        },
        {
          "name": "stderr",
          "output_type": "stream",
          "text": [
            "Epoch 92/100: 100%|██████████| 434/434 [00:45<00:00,  9.47it/s]\n"
          ]
        },
        {
          "name": "stdout",
          "output_type": "stream",
          "text": [
            "Epoch 92/100, Loss: 73.5245, Train Accuracy: 0.9442, Validation Accuracy: 0.9154\n"
          ]
        },
        {
          "name": "stderr",
          "output_type": "stream",
          "text": [
            "Epoch 93/100: 100%|██████████| 434/434 [00:45<00:00,  9.48it/s]\n"
          ]
        },
        {
          "name": "stdout",
          "output_type": "stream",
          "text": [
            "Epoch 93/100, Loss: 73.5180, Train Accuracy: 0.9439, Validation Accuracy: 0.9188\n",
            "Saved best model to /content/drive/MyDrive/Sentiment_Analysis_Models/best_sentiment_model.pth\n"
          ]
        },
        {
          "name": "stderr",
          "output_type": "stream",
          "text": [
            "Epoch 94/100: 100%|██████████| 434/434 [00:46<00:00,  9.31it/s]\n"
          ]
        },
        {
          "name": "stdout",
          "output_type": "stream",
          "text": [
            "Epoch 94/100, Loss: 72.9578, Train Accuracy: 0.9446, Validation Accuracy: 0.9187\n"
          ]
        },
        {
          "name": "stderr",
          "output_type": "stream",
          "text": [
            "Epoch 95/100: 100%|██████████| 434/434 [00:45<00:00,  9.55it/s]\n"
          ]
        },
        {
          "name": "stdout",
          "output_type": "stream",
          "text": [
            "Epoch 95/100, Loss: 74.2261, Train Accuracy: 0.9432, Validation Accuracy: 0.9175\n"
          ]
        },
        {
          "name": "stderr",
          "output_type": "stream",
          "text": [
            "Epoch 96/100: 100%|██████████| 434/434 [00:45<00:00,  9.47it/s]\n"
          ]
        },
        {
          "name": "stdout",
          "output_type": "stream",
          "text": [
            "Epoch 96/100, Loss: 73.3921, Train Accuracy: 0.9435, Validation Accuracy: 0.9135\n"
          ]
        },
        {
          "name": "stderr",
          "output_type": "stream",
          "text": [
            "Epoch 97/100: 100%|██████████| 434/434 [00:46<00:00,  9.29it/s]\n"
          ]
        },
        {
          "name": "stdout",
          "output_type": "stream",
          "text": [
            "Epoch 97/100, Loss: 73.9573, Train Accuracy: 0.9430, Validation Accuracy: 0.9151\n"
          ]
        },
        {
          "name": "stderr",
          "output_type": "stream",
          "text": [
            "Epoch 98/100: 100%|██████████| 434/434 [00:45<00:00,  9.47it/s]\n"
          ]
        },
        {
          "name": "stdout",
          "output_type": "stream",
          "text": [
            "Epoch 98/100, Loss: 72.8554, Train Accuracy: 0.9432, Validation Accuracy: 0.9182\n"
          ]
        },
        {
          "name": "stderr",
          "output_type": "stream",
          "text": [
            "Epoch 99/100: 100%|██████████| 434/434 [00:45<00:00,  9.46it/s]\n"
          ]
        },
        {
          "name": "stdout",
          "output_type": "stream",
          "text": [
            "Epoch 99/100, Loss: 72.6051, Train Accuracy: 0.9442, Validation Accuracy: 0.9175\n"
          ]
        },
        {
          "name": "stderr",
          "output_type": "stream",
          "text": [
            "Epoch 100/100: 100%|██████████| 434/434 [00:46<00:00,  9.29it/s]\n"
          ]
        },
        {
          "name": "stdout",
          "output_type": "stream",
          "text": [
            "Epoch 100/100, Loss: 71.4996, Train Accuracy: 0.9453, Validation Accuracy: 0.9198\n",
            "Saved best model to /content/drive/MyDrive/Sentiment_Analysis_Models/best_sentiment_model.pth\n"
          ]
        }
      ],
      "source": [
        "for epoch in range(num_epochs):\n",
        "    model.train()\n",
        "    epoch_loss = 0\n",
        "    train_preds, train_targets , train_texts = [], [] , []\n",
        "\n",
        "    for texts, vectors, labels in tqdm(train_loader, desc=f\"Epoch {epoch + 1}/{num_epochs}\"):\n",
        "        vectors, labels = vectors.to(device), labels.to(device)\n",
        "        optimizer.zero_grad()\n",
        "        outputs = model(vectors).squeeze()\n",
        "        loss = criterion(outputs, labels)\n",
        "        loss.backward()\n",
        "        optimizer.step()\n",
        "        epoch_loss += loss.item()\n",
        "\n",
        "        train_preds.extend(outputs.detach().cpu().numpy())\n",
        "        train_targets.extend(labels.cpu().numpy())\n",
        "        train_texts.extend(texts)\n",
        "\n",
        "    train_preds_binary = [1 if pred >= 0.5 else 0 for pred in train_preds]\n",
        "    train_acc = accuracy_score(train_targets, train_preds_binary)\n",
        "    train_losses.append(epoch_loss / len(train_loader))\n",
        "\n",
        "    model.eval()\n",
        "    val_preds, val_targets = [], []\n",
        "    with torch.no_grad():\n",
        "        for texts, vectors, labels in val_loader:\n",
        "            vectors, labels = vectors.to(device), labels.to(device)\n",
        "            outputs = model(vectors).squeeze()\n",
        "            val_preds.extend(outputs.cpu().numpy())\n",
        "            val_targets.extend(labels.cpu().numpy())\n",
        "\n",
        "    val_preds_binary = [1 if pred >= 0.5 else 0 for pred in val_preds]\n",
        "    val_acc = accuracy_score(val_targets, val_preds_binary)\n",
        "    val_accuracies.append(val_acc)\n",
        "\n",
        "    log_message = (f\"Epoch {epoch + 1}/{num_epochs}, Loss: {epoch_loss:.4f}, \"\n",
        "                  f\"Train Accuracy: {train_acc:.4f}, Validation Accuracy: {val_acc:.4f}\")\n",
        "    print(log_message)\n",
        "\n",
        "    scheduler.step(val_acc)\n",
        "    if val_acc > best_val_acc:\n",
        "        best_val_acc = val_acc\n",
        "        early_stop_counter = 0\n",
        "        torch.save(model.state_dict(), pytorch_model_path)\n",
        "        print(f\"Saved best model to {pytorch_model_path}\")\n",
        "    else:\n",
        "        early_stop_counter += 1\n",
        "        if early_stop_counter >= early_stop_patience:\n",
        "            print(\"Early stopping triggered.\")\n",
        "            break"
      ]
    },
    {
      "cell_type": "markdown",
      "metadata": {
        "id": "OTXGu5owuF4S"
      },
      "source": [
        "## Model Evaluation and Performance Metrics\n",
        "\n",
        "This section evaluates the model's performance on both the training and test datasets using key metrics such as accuracy, precision, recall, F1-score, and AUC. These metrics provide insights into the model's effectiveness in distinguishing between classes and its overall predictive capability.\n"
      ]
    },
    {
      "cell_type": "code",
      "execution_count": 63,
      "metadata": {
        "colab": {
          "base_uri": "https://localhost:8080/"
        },
        "id": "t_l7rnFiuFdJ",
        "outputId": "310a04f4-010a-47a7-879f-ffc9b25d1d6b"
      },
      "outputs": [
        {
          "name": "stdout",
          "output_type": "stream",
          "text": [
            "Test Accuracy: 0.9375\n",
            "Sample  Text                                                                              Predicted Sentiment  Actual Sentiment\n",
            "===============================================================================================================================\n",
            "1       እንግድህ እንላለን ነፍስ ይማር ብለን ዝምምምምምም ፈጣሪም ዝምምም አለ ቃሉ ይፈፀም ግድ ነውና                       Positive             Positive        \n",
            "2       ታከለ ኡማ የቤተክርክስቲያን መብት ጥሷል                                                         Negative             Negative        \n",
            "3       ውሻ አገባት እርሻ ብለን ቁጭ እንዳንል በኑሮአችን እየመጡ ቸገረን እኮ                                      Positive             Positive        \n",
            "4       አፍሪካ ሀብረት ደብረ ምህረት የቅዱስ ሚካኤል ካቴድራል ሰንበት ትምህርት ቤት ባወጣው መግለጫ የሚከተለውን ተንኳሽ ቃል ተጠቅሟል  Positive             Positive        \n",
            "5       ነፍጠኝነት ይለምልም                                                                      Negative             Negative        \n"
          ]
        }
      ],
      "source": [
        "from sklearn.metrics import accuracy_score\n",
        "\n",
        "model.eval()\n",
        "test_preds, test_targets, test_texts = [], [], []\n",
        "max_samples = 5\n",
        "sample_count = 0\n",
        "\n",
        "with torch.no_grad():\n",
        "\tfor texts, vectors, labels in test_loader:\n",
        "\t\tvectors, labels = vectors.to(device), labels.to(device)\n",
        "\t\toutputs = model(vectors).squeeze()\n",
        "\t\ttest_preds.extend(outputs.cpu().numpy())\n",
        "\t\ttest_targets.extend(labels.cpu().numpy())\n",
        "\t\ttest_texts.extend(texts)\n",
        "\n",
        "\t\tsample_count += len(labels)\n",
        "\t\tif sample_count >= max_samples:\n",
        "\t\t\tbreak\n",
        "\n",
        "test_preds_binary = [1 if pred >= 0.5 else 0 for pred in test_preds]\n",
        "test_acc = accuracy_score(test_targets, test_preds_binary)\n",
        "print(f\"Test Accuracy: {test_acc:.4f}\")\n",
        "\n",
        "test_preds_binary = test_preds_binary[:max_samples]\n",
        "test_targets = test_targets[:max_samples]\n",
        "test_texts = test_texts[:max_samples]\n",
        "\n",
        "col_widths = {\n",
        "\t\"Sample\": max(len(\"Sample\"), len(str(max_samples))),\n",
        "\t\"Text\": max(len(\"Text\"), max(len(text) for text in test_texts)),\n",
        "\t\"Predicted Sentiment\": len(\"Predicted Sentiment\"),\n",
        "\t\"Actual Sentiment\": len(\"Actual Sentiment\"),\n",
        "}\n",
        "\n",
        "header = f\"{'Sample':<{col_widths['Sample']}}  {'Text':<{col_widths['Text']}}  {'Predicted Sentiment':<{col_widths['Predicted Sentiment']}}  {'Actual Sentiment':<{col_widths['Actual Sentiment']}}\"\n",
        "print(header)\n",
        "print(\"=\" * len(header))\n",
        "\n",
        "for i, (text, pred, actual) in enumerate(zip(test_texts, test_preds_binary, test_targets)):\n",
        "\tpredicted_sentiment = 'Positive' if pred == 1 else 'Negative'\n",
        "\tactual_sentiment = 'Positive' if actual == 1 else 'Negative'\n",
        "\tprint(f\"{i + 1:<{col_widths['Sample']}}  {text:<{col_widths['Text']}}  {predicted_sentiment:<{col_widths['Predicted Sentiment']}}  {actual_sentiment:<{col_widths['Actual Sentiment']}}\")"
      ]
    },
    {
      "cell_type": "code",
      "execution_count": 49,
      "metadata": {
        "id": "L4nRabkK50Re"
      },
      "outputs": [],
      "source": [
        "import onnxruntime as ort\n",
        "import numpy as np\n",
        "from sklearn.metrics import accuracy_score, precision_score, recall_score, f1_score, roc_auc_score, classification_report\n",
        "\n",
        "def evaluate_onnx_model(data_loader, session, max_samples=None):\n",
        "\t\"\"\"\n",
        "\tEvaluates the ONNX model on a given DataLoader and calculates evaluation metrics.\n",
        "\n",
        "\tArgs:\n",
        "\t\tdata_loader (DataLoader): DataLoader for the dataset to evaluate.\n",
        "\t\tsession (onnxruntime.InferenceSession): Loaded ONNX model session.\n",
        "\t\tmax_samples (int): Maximum number of samples to evaluate (optional).\n",
        "\n",
        "\tReturns:\n",
        "\t\ttuple: (predictions, targets, texts)\n",
        "\t\"\"\"\n",
        "\tpreds, targets, texts = [], [], []\n",
        "\tsample_count = 0\n",
        "\n",
        "\tfor batch_texts, vectors, labels in data_loader:\n",
        "\t\tvectors = vectors.numpy()\n",
        "\t\tlabels = labels.numpy()\n",
        "\n",
        "\t\tort_inputs = {session.get_inputs()[0].name: vectors}\n",
        "\t\tort_outs = session.run(None, ort_inputs)\n",
        "\t\toutputs = np.squeeze(ort_outs[0])\n",
        "\n",
        "\t\tpreds.extend(outputs)\n",
        "\t\ttargets.extend(labels)\n",
        "\t\ttexts.extend(batch_texts)\n",
        "\n",
        "\t\tsample_count += len(labels)\n",
        "\t\tif max_samples and sample_count >= max_samples:\n",
        "\t\t\tbreak\n",
        "\n",
        "\tif max_samples:\n",
        "\t\tpreds = preds[:max_samples]\n",
        "\t\ttargets = targets[:max_samples]\n",
        "\t\ttexts = texts[:max_samples]\n",
        "\n",
        "\tpreds_binary = [1 if pred >= 0.5 else 0 for pred in preds]\n",
        "\n",
        "\treturn preds, preds_binary, targets, texts"
      ]
    },
    {
      "cell_type": "code",
      "execution_count": 50,
      "metadata": {
        "id": "Kr0ntsztyAIK"
      },
      "outputs": [],
      "source": [
        "def calculate_metrics(preds, preds_binary, targets):\n",
        "\t\"\"\"\n",
        "\tCalculates evaluation metrics for model predictions.\n",
        "\n",
        "\tArgs:\n",
        "\t\tpreds (list): Raw model outputs (probabilities).\n",
        "\t\tpreds_binary (list): Binary model predictions.\n",
        "\t\ttargets (list): True labels.\n",
        "\n",
        "\tReturns:\n",
        "\t\tdict: Evaluation metrics.\n",
        "\t\"\"\"\n",
        "\taccuracy = accuracy_score(targets, preds_binary)\n",
        "\tprecision = precision_score(targets, preds_binary, average='binary')\n",
        "\trecall = recall_score(targets, preds_binary, average='binary')\n",
        "\tf1 = f1_score(targets, preds_binary, average='binary')\n",
        "\tauc = roc_auc_score(targets, preds)\n",
        "\treport = classification_report(targets, preds_binary, output_dict=True)\n",
        "\n",
        "\treturn {\n",
        "\t\t\"accuracy\": accuracy,\n",
        "\t\t\"precision\": precision,\n",
        "\t\t\"recall\": recall,\n",
        "\t\t\"f1_score\": f1,\n",
        "\t\t\"auc\": auc,\n",
        "\t\t\"classification_report\": report\n",
        "\t}"
      ]
    },
    {
      "cell_type": "code",
      "execution_count": 51,
      "metadata": {
        "colab": {
          "base_uri": "https://localhost:8080/"
        },
        "id": "J7NlvgTCyC-o",
        "outputId": "26bc3b95-ccbc-411a-d1d3-f1eaf3d0cd65"
      },
      "outputs": [
        {
          "name": "stdout",
          "output_type": "stream",
          "text": [
            "\n",
            "Train Metrics:\n",
            "Accuracy: 0.9461\n",
            "Precision: 0.9757\n",
            "Recall: 0.9189\n",
            "F1_score: 0.9464\n",
            "Auc: 0.9781\n",
            "\n",
            "Classification Report (Train):\n",
            " {'0.0': {'precision': 0.9178771146203355, 'recall': 0.9753709309713346, 'f1-score': 0.9457510418554086, 'support': 26757.0}, '1.0': {'precision': 0.9756943163795965, 'recall': 0.9188926326027302, 'f1-score': 0.9464419877643018, 'support': 28789.0}, 'accuracy': 0.9460987289813848, 'macro avg': {'precision': 0.9467857154999659, 'recall': 0.9471317817870324, 'f1-score': 0.9460965148098552, 'support': 55546.0}, 'weighted avg': {'precision': 0.9478432583831153, 'recall': 0.9460987289813848, 'f1-score': 0.9461091530024061, 'support': 55546.0}}\n",
            "\n",
            "Test Metrics:\n",
            "Accuracy: 0.9219\n",
            "Precision: 0.9522\n",
            "Recall: 0.8937\n",
            "F1_score: 0.9220\n",
            "Auc: 0.9575\n",
            "\n",
            "Classification Report (Test):\n",
            " {'0.0': {'precision': 0.8933626926706512, 'recall': 0.9520616828695944, 'f1-score': 0.9217786432976306, 'support': 2983.0}, '1.0': {'precision': 0.9522058823529411, 'recall': 0.89366373902133, 'f1-score': 0.9220064724919094, 'support': 3188.0}, 'accuracy': 0.9218927240317615, 'macro avg': {'precision': 0.9227842875117962, 'recall': 0.9228627109454621, 'f1-score': 0.92189255789477, 'support': 6171.0}, 'weighted avg': {'precision': 0.923761669936433, 'recall': 0.9218927240317615, 'f1-score': 0.9218963421262419, 'support': 6171.0}}\n"
          ]
        }
      ],
      "source": [
        "train_preds, train_preds_binary, train_targets, train_texts_eval = evaluate_onnx_model(\n",
        "\ttrain_loader, session\n",
        ")\n",
        "train_metrics = calculate_metrics(train_preds, train_preds_binary, train_targets)\n",
        "\n",
        "print(\"\\nTrain Metrics:\")\n",
        "for metric, value in train_metrics.items():\n",
        "\tif metric == \"classification_report\":\n",
        "\t\tprint(\"\\nClassification Report (Train):\\n\", value)\n",
        "\telse:\n",
        "\t\tprint(f\"{metric.capitalize()}: {value:.4f}\")\n",
        "\n",
        "test_preds, test_preds_binary, test_targets, test_texts_eval = evaluate_onnx_model(\n",
        "\ttest_loader, session\n",
        ")\n",
        "test_metrics = calculate_metrics(test_preds, test_preds_binary, test_targets)\n",
        "\n",
        "print(\"\\nTest Metrics:\")\n",
        "for metric, value in test_metrics.items():\n",
        "\tif metric == \"classification_report\":\n",
        "\t\tprint(\"\\nClassification Report (Test):\\n\", value)\n",
        "\telse:\n",
        "\t\tprint(f\"{metric.capitalize()}: {value:.4f}\")"
      ]
    },
    {
      "cell_type": "markdown",
      "metadata": {
        "id": "neHBVbfsz_lh"
      },
      "source": [
        "### Confusion Matrix: Model Performance on Test Dataset"
      ]
    },
    {
      "cell_type": "code",
      "execution_count": 60,
      "metadata": {
        "id": "FAFcDHZE0C26"
      },
      "outputs": [],
      "source": [
        "import matplotlib.pyplot as plt\n",
        "from sklearn.metrics import confusion_matrix, ConfusionMatrixDisplay\n",
        "\n",
        "def plot_confusion_matrix(targets, preds_binary, title=\"Confusion Matrix\"):\n",
        "\t\"\"\"\n",
        "\tPlots a confusion matrix using true and predicted labels.\n",
        "\n",
        "\tArgs:\n",
        "\t\ttargets (list): True labels.\n",
        "\t\tpreds_binary (list): Predicted binary labels.\n",
        "\t\ttitle (str): Title for the confusion matrix plot.\n",
        "\t\"\"\"\n",
        "\tcm = confusion_matrix(targets, preds_binary)\n",
        "\tdisp = ConfusionMatrixDisplay(confusion_matrix=cm, display_labels=[\"Negative\", \"Positive\"])\n",
        "\n",
        "\tplt.figure(figsize=(8, 6))\n",
        "\tdisp.plot(cmap=plt.cm.Blues, ax=plt.gca())\n",
        "\tplt.title(title)\n",
        "\tplt.show()\n"
      ]
    },
    {
      "cell_type": "code",
      "execution_count": 61,
      "metadata": {
        "colab": {
          "base_uri": "https://localhost:8080/",
          "height": 564
        },
        "id": "o4FJwaIU0bh2",
        "outputId": "cb9ace3b-56e2-4c84-b6e2-e31bfde7525c"
      },
      "outputs": [
        {
          "data": {
            "image/png": "[encoded data removed]",
            "text/plain": [
              "<Figure size 800x600 with 2 Axes>"
            ]
          },
          "metadata": {},
          "output_type": "display_data"
        }
      ],
      "source": [
        "plot_confusion_matrix(train_targets, train_preds_binary, title=\"Confusion Matrix (Train Dataset)\")"
      ]
    }
  ],
  "metadata": {
    "colab": {
      "provenance": []
    },
    "kernelspec": {
      "display_name": "Python 3",
      "name": "python3"
    },
    "language_info": {
      "codemirror_mode": {
        "name": "ipython",
        "version": 3
      },
      "file_extension": ".py",
      "mimetype": "text/x-python",
      "name": "python",
      "nbconvert_exporter": "python",
      "pygments_lexer": "ipython3",
      "version": "3.12.3"
    }
  },
  "nbformat": 4,
  "nbformat_minor": 0
}
