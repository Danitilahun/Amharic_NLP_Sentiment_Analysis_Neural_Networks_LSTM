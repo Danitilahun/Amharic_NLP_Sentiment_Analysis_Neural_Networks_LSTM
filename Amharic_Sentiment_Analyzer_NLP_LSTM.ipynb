{
 "cells": [
  {
   "cell_type": "code",
   "execution_count": 30,
   "metadata": {},
   "outputs": [],
   "source": [
    "import sys\n",
    "import os\n",
    "\n",
    "sys.path.append(os.path.join(os.getcwd(), 'data'))\n",
    "\n",
    "import amharic_preprocessing_data\n",
    "\n",
    "abbreviations = amharic_preprocessing_data.abbreviations_dictionary_data\n",
    "stopwords = amharic_preprocessing_data.amharic_stopwords"
   ]
  },
  {
   "cell_type": "code",
   "execution_count": 31,
   "metadata": {},
   "outputs": [
    {
     "name": "stdout",
     "output_type": "stream",
     "text": [
      "ሀ/ማርያም: ሀይለ ማርያም\n",
      "ሃ/ማርያም: ሃይለ ማርያም\n",
      "ህ/ሰብ: ህብረተሰብ\n",
      "ህ/ቁ: ህዝባር ቁጥር\n",
      "ህ/ተሰብ: ህብረተሰብ\n",
      "ኢዴህሕ: የኢትዮጵያ ዲሞክራሳዊ ሃይሎች ህብረት\n",
      "አ/አ/ድ: አፍሪካ አንድነት ድርጅት\n",
      "ሜ/ጄኔራል: ሜጀር ጄኔራል\n",
      "ብ/ጄ/ል: ብርጋዴል ጄኔራል\n",
      "ም/ቤቱ: ምክር ቤቱ\n"
     ]
    }
   ],
   "source": [
    "for key, value in list(abbreviations.items())[:10]:\n",
    "    print(f\"{key}: {value}\")"
   ]
  },
  {
   "cell_type": "code",
   "execution_count": 21,
   "metadata": {},
   "outputs": [
    {
     "data": {
      "text/plain": [
       "['ሰሞን', 'ወዲያ', 'ጋር', 'የእሷ', 'ወይስ', 'እናንተ', 'እኔ', 'እየኖርኩ', 'እንዴት', 'ት']"
      ]
     },
     "execution_count": 21,
     "metadata": {},
     "output_type": "execute_result"
    }
   ],
   "source": [
    "stopwords[:10]"
   ]
  },
  {
   "cell_type": "code",
   "execution_count": 32,
   "metadata": {},
   "outputs": [
    {
     "name": "stdout",
     "output_type": "stream",
     "text": [
      "                                               tweet sentiment\n",
      "0             ልዩ የተፈጥሮ ገፅታ *****የምስራቅ አፍሪካ የውሃ ማማ ጮቄ   neutral\n",
      "1  @bobomaheder Global citizenንነቴ እና ኢትዮጵያዊነቴ ተምታ...   neutral\n",
      "2  RT @TechinEthiopia: ሐሴትን ከበጎነት !!! የሰው ልጅ በምድር...     mixed\n",
      "3  ለቅዳሚታችሁ 💚💛❤ አሁን በምትሰሩት ማንኛውም ነገር ምሉእነትና እርካታ ይ...   neutral\n",
      "4  @tesfamaryam21 40/60 ኮንዶሚኒየም ከሆነ እመልሳለሁ ካልሆነ መ...   neutral\n",
      "\n",
      " Number of rows in the dataset: 17352\n"
     ]
    }
   ],
   "source": [
    "import pandas as pd\n",
    "\n",
    "data = pd.read_csv(os.path.join('data', 'dataset.csv'))\n",
    "\n",
    "print(data.head(5))\n",
    "\n",
    "rows, columns = data.shape\n",
    "\n",
    "print(f\"\\n Number of rows in the dataset: {rows}\")"
   ]
  },
  {
   "cell_type": "markdown",
   "metadata": {},
   "source": [
    "### Short Form Expansion and Character Level Normalization"
   ]
  }
 ],
 "metadata": {
  "kernelspec": {
   "display_name": "Python 3",
   "language": "python",
   "name": "python3"
  },
  "language_info": {
   "codemirror_mode": {
    "name": "ipython",
    "version": 3
   },
   "file_extension": ".py",
   "mimetype": "text/x-python",
   "name": "python",
   "nbconvert_exporter": "python",
   "pygments_lexer": "ipython3",
   "version": "3.12.3"
  }
 },
 "nbformat": 4,
 "nbformat_minor": 2
}
